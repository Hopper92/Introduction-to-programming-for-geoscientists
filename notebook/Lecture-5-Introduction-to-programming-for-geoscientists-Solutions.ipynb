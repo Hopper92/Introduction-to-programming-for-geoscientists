{
 "cells": [
  {
   "cell_type": "markdown",
   "metadata": {},
   "source": [
    "# Introduction to programming for Geoscientists through Python"
   ]
  },
  {
   "cell_type": "markdown",
   "metadata": {},
   "source": [
    "# Lecture 5 solutions\n",
    "## Gerard J. Gorman (g.gorman@imperial.ac.uk) http://www.imperial.ac.uk/people/g.gorman"
   ]
  },
  {
   "cell_type": "markdown",
   "metadata": {},
   "source": [
    "* **Fill lists with function values**</br>\n",
    "A function with many applications in science is defined as:</br></br>\n",
    "$h(x) = \\frac{1}{\\sqrt{2\\pi}}\\exp(-0.5x^2)$</br></br>\n",
    "Fill lists *xlist* and *hlist* with *x* and *h(x)* values for uniformly spaced *x* coordinates in [−4, 4]. You may adapt the first example in the lecture 4 notes."
   ]
  },
  {
   "cell_type": "code",
   "execution_count": 39,
   "metadata": {},
   "outputs": [
    {
     "name": "stdout",
     "output_type": "stream",
     "text": [
      "xlist = [-4.0, -3.0, -2.0, -1.0, 0.0, 1.0, 2.0, 3.0, 4.0]\n",
      "ylist = [0.00013383022576488537, 0.0044318484119380075, 0.05399096651318806, 0.24197072451914337, 0.3989422804014327, 0.24197072451914337, 0.05399096651318806, 0.0044318484119380075, 0.00013383022576488537]\n"
     ]
    }
   ],
   "source": [
    "from math import *\n",
    "\n",
    "# Function h(x)\n",
    "def h(x):\n",
    "    return (1.0/sqrt(2*pi)) * exp(-0.5 * x**2)\n",
    "\n",
    "# Generate n points in [-4,4]\n",
    "n = 9 # number of uniformly distributed points in xlist\n",
    "dx = 8.0/(n-1) # x spacing\n",
    "xlist = [-4.0+i*dx for i in range(n)] # Python lists\n",
    "\n",
    "ylist = [h(x) for x in xlist]\n",
    "\n",
    "print('xlist =', xlist)\n",
    "print('ylist =', ylist)"
   ]
  },
  {
   "cell_type": "markdown",
   "metadata": {},
   "source": [
    "* **Fill arrays; loop version**</br>\n",
    "The aim is to fill two arrays *x* and *y* with *x* and *h(x)* values, respectively, where *h(x)* is defined above. Let the *x* values be uniformly spaced in [−4, 4]. Use list comprehensions to create the *x* and *y* arrays."
   ]
  },
  {
   "cell_type": "code",
   "execution_count": 40,
   "metadata": {},
   "outputs": [
    {
     "name": "stdout",
     "output_type": "stream",
     "text": [
      "x = [-4. -3. -2. -1.  0.  1.  2.  3.  4.]\n",
      "y = [  1.33830226e-04   4.43184841e-03   5.39909665e-02   2.41970725e-01\n",
      "   3.98942280e-01   2.41970725e-01   5.39909665e-02   4.43184841e-03\n",
      "   1.33830226e-04]\n"
     ]
    }
   ],
   "source": [
    "from math import *\n",
    "from numpy import *\n",
    "\n",
    "# Function h(x)\n",
    "def h(x):\n",
    "    return (1.0/sqrt(2*pi)) * exp(-0.5 * x**2)\n",
    "\n",
    "# Generate n points in [-4,4]\n",
    "n = 9 # number of uniformly distributed points in x\n",
    "dx = 8.0/(n-1) # x spacing\n",
    "x = array([-4.0+i*dx for i in range(n)]) # list created using list comprehension and then converted to an array using the array function\n",
    "\n",
    "y = array([h(xi) for xi in x]) # \n",
    "\n",
    "print('x =', x) # x is an array\n",
    "print('y =', y) # y is an array = h(x)"
   ]
  },
  {
   "cell_type": "markdown",
   "metadata": {},
   "source": [
    "* **Fill arrays; vectorized version**</br>\n",
    "Vectorize the code in the previous exercise by creating the *x* values using the *linspace* function and by evaluating *h(x)* for an array argument."
   ]
  },
  {
   "cell_type": "code",
   "execution_count": 41,
   "metadata": {},
   "outputs": [
    {
     "name": "stdout",
     "output_type": "stream",
     "text": [
      "x = [-4. -3. -2. -1.  0.  1.  2.  3.  4.]\n",
      "y = [  1.33830226e-04   4.43184841e-03   5.39909665e-02   2.41970725e-01\n",
      "   3.98942280e-01   2.41970725e-01   5.39909665e-02   4.43184841e-03\n",
      "   1.33830226e-04]\n"
     ]
    }
   ],
   "source": [
    "from math import *\n",
    "from numpy import *\n",
    "\n",
    "# Function h(x)\n",
    "def h(x):\n",
    "    return (1.0/sqrt(2*pi)) * exp(-0.5 * x**2)\n",
    "\n",
    "# Generate n points in [-4,4]\n",
    "n = 9\n",
    "x = linspace(-4.0, 4.0, n)\n",
    "\n",
    "y = h(x)\n",
    "\n",
    "print('x =', x) # x is an array\n",
    "print('y =', y) # y is an array = h(x)"
   ]
  },
  {
   "cell_type": "markdown",
   "metadata": {},
   "source": [
    "* **Apply a function to a vector**</br>\n",
    "Given a vector $v = (2, 3, −1)$ and a function $f(x) = x^3 + xe^x + 1$, apply $f$ to each element in $v$. Then calculate $f(v)$ as $v^3 + ve^v + 1$ using vector computing rules. Show that the two results are equal."
   ]
  },
  {
   "cell_type": "code",
   "execution_count": 42,
   "metadata": {},
   "outputs": [
    {
     "name": "stdout",
     "output_type": "stream",
     "text": [
      "v = [ 2.  3. -1.]\n",
      "f(v) element-wise =  23.7781121979 88.2566107696 -0.367879441171\n",
      "f(v) =  [ 23.7781122   88.25661077  -0.36787944]\n"
     ]
    }
   ],
   "source": [
    "from math import *\n",
    "from numpy import *\n",
    "\n",
    "# Function f(x)\n",
    "def f(x):\n",
    "    return x**3 + x*exp(x) + 1.0\n",
    "\n",
    "v = array([2.,3.,-1.]) # vector v\n",
    "\n",
    "# applying function f(x) on each element of v\n",
    "y1 = f(v[0]) \n",
    "y2 = f(v[1])\n",
    "y3 = f(v[2])\n",
    "\n",
    "# applying f(x) on v\n",
    "y = f(v)\n",
    "\n",
    "print('v =', v)\n",
    "print('f(v) element-wise = ', y1, y2, y3)\n",
    "print('f(v) = ', y)"
   ]
  },
  {
   "cell_type": "markdown",
   "metadata": {},
   "source": [
    "* **Simulate by hand a vectorized expression**</br>\n",
    "Suppose *x* and *t* are two arrays of the same length, entering a vectorized expression:\n",
    "\n",
    "```python\n",
    "y = cos(sin(x)) + exp(1/t)\n",
    "```\n",
    "\n",
    "If *x* holds two elements, 0 and 2, and *t* holds the elements 1 and 1.5, calculate by hand (using a calculator) the *y* array. Thereafter, write a program that mimics the series of computations you did by hand (use explicit loops, but at the end you can use NumPy functionality to check the results)."
   ]
  },
  {
   "cell_type": "code",
   "execution_count": 43,
   "metadata": {},
   "outputs": [
    {
     "name": "stdout",
     "output_type": "stream",
     "text": [
      "y1 =  [ 3.71828183  2.56203432]\n",
      "y2 =  [ 3.71828183  2.56203432]\n"
     ]
    }
   ],
   "source": [
    "from math import *\n",
    "from numpy import *\n",
    "\n",
    "# Function f(x,t)\n",
    "def f(x,t):\n",
    "    return cos(sin(x)) + exp(1.0/t)\n",
    "\n",
    "# Defining x and t arrays\n",
    "x=array([0.,2.])\n",
    "t=array([1.,1.5])\n",
    "\n",
    "# calculating y1 explicitly\n",
    "y1=zeros(len(x))\n",
    "for i in range(len(x)):\n",
    "    y1[i] = f(x[i],t[i])\n",
    "\n",
    "# calculating y directly using vectorization feature of numpy\n",
    "y2=f(x,t) # y2 is an array\n",
    "print('y1 = ', y1)\n",
    "print('y2 = ', y2)"
   ]
  },
  {
   "cell_type": "markdown",
   "metadata": {},
   "source": [
    "* **Demonstrate array slicing**</br>\n",
    "Create an array *w* with values 0, 0.1, 0.2, ..., 3. Write out *w[:]*, *w[:-2]*, *w[::5]*, *w[2:-2:6]*. Convince yourself in each case that you understand which elements of the array are printed."
   ]
  },
  {
   "cell_type": "code",
   "execution_count": 44,
   "metadata": {},
   "outputs": [
    {
     "name": "stdout",
     "output_type": "stream",
     "text": [
      "w[:] = [ 0.   0.1  0.2  0.3  0.4  0.5  0.6  0.7  0.8  0.9  1.   1.1  1.2  1.3  1.4\n",
      "  1.5  1.6  1.7  1.8  1.9  2.   2.1  2.2  2.3  2.4  2.5  2.6  2.7  2.8  2.9\n",
      "  3. ]\n",
      "w[:-2] = [ 0.   0.1  0.2  0.3  0.4  0.5  0.6  0.7  0.8  0.9  1.   1.1  1.2  1.3  1.4\n",
      "  1.5  1.6  1.7  1.8  1.9  2.   2.1  2.2  2.3  2.4  2.5  2.6  2.7  2.8]\n",
      "w[::5] = [ 0.   0.5  1.   1.5  2.   2.5  3. ]\n",
      "w[2:-2:6] = [ 0.2  0.8  1.4  2.   2.6]\n"
     ]
    }
   ],
   "source": [
    "from numpy import *\n",
    "\n",
    "w=arange(0,3.1,0.1) # creates the array starting at 0, ending at (but not containing) 3.1, with a step size of 0.1\n",
    "\n",
    "print('w[:] =', w[:])\n",
    "print('w[:-2] =', w[:-2])\n",
    "print('w[::5] =', w[::5])\n",
    "print('w[2:-2:6] =', w[2:-2:6])"
   ]
  },
  {
   "cell_type": "markdown",
   "metadata": {},
   "source": [
    "* **Plot a formula**</br>\n",
    "Make a plot of the function $y(t) = v_0t − 0.5gt^2$ for $v_0 = 10$, $g = 9.81$, and $t \\in [0, 2v_0/g]$. The label on the *x* axis should be 'time (s)' and the label on the *y* axis should be 'height (m)'."
   ]
  },
  {
   "cell_type": "code",
   "execution_count": 45,
   "metadata": {},
   "outputs": [
    {
     "name": "stdout",
     "output_type": "stream",
     "text": [
      "Populating the interactive namespace from numpy and matplotlib\n"
     ]
    },
    {
     "name": "stderr",
     "output_type": "stream",
     "text": [
      "/usr/local/lib/python3.5/dist-packages/IPython/core/magics/pylab.py:160: UserWarning: pylab import has clobbered these variables: ['f', 'gamma']\n",
      "`%matplotlib` prevents importing * from pylab and numpy\n",
      "  \"\\n`%matplotlib` prevents importing * from pylab and numpy\"\n"
     ]
    },
    {
     "data": {
      "image/png": "[encoded data removed]",
      "text/plain": [
       "<matplotlib.figure.Figure at 0x2ba010ee07f0>"
      ]
     },
     "metadata": {},
     "output_type": "display_data"
    }
   ],
   "source": [
    "%pylab inline\n",
    "\n",
    "v0=10.\n",
    "g=9.81\n",
    "\n",
    "n=50 # number of points to be plotted on the graph\n",
    "t=linspace(0,2*v0/g,n) # generate n points between 0 and 2*v0/g\n",
    "y=v0*t - 0.5*g*t**2\n",
    "\n",
    "plot(t,y)\n",
    "xlabel('time (s)')\n",
    "ylabel('height (m)')\n",
    "show()\n"
   ]
  },
  {
   "cell_type": "markdown",
   "metadata": {},
   "source": [
    "* **Specify the x and y axes**</br>\n",
    "Extend the program from the previous exercise such that the minimum and maximum *x* and *y* values are computed, and use the extreme values to specify the extent of the *x* and *y* axes. Add some space above the heighest curve."
   ]
  },
  {
   "cell_type": "code",
   "execution_count": 46,
   "metadata": {},
   "outputs": [
    {
     "name": "stdout",
     "output_type": "stream",
     "text": [
      "Populating the interactive namespace from numpy and matplotlib\n"
     ]
    },
    {
     "data": {
      "image/png": "[encoded data removed]",
      "text/plain": [
       "<matplotlib.figure.Figure at 0x2ba010efc0f0>"
      ]
     },
     "metadata": {},
     "output_type": "display_data"
    }
   ],
   "source": [
    "%pylab inline\n",
    "\n",
    "v0=10.\n",
    "g=9.81\n",
    "\n",
    "n=50 # number of points to be plotted on the graph\n",
    "t=linspace(0,2*v0/g,n) # generate n points between 0 and 2*v0/g\n",
    "y=v0*t - 0.5*g*t**2\n",
    "\n",
    "#find minimum and maximum t and y values\n",
    "tmin = min(t)\n",
    "tmax = max(t)\n",
    "ymin = min(y)\n",
    "ymax = max(y)\n",
    "\n",
    "# plot graph\n",
    "plot(t,y)\n",
    "xlabel('time (s)')\n",
    "ylabel('height (m)')\n",
    "axis([tmin, tmax, ymin, ymax+0.1*(ymax-ymin)]) # specify the extent of the axes [tmin, tmax, ymin, ymax]\n",
    "show()\n"
   ]
  },
  {
   "cell_type": "markdown",
   "metadata": {},
   "source": [
    "* **Plot a formula for several parameters**</br>\n",
    "Make a program that reads a set of $v_0$ values using iPython widgets and plots the corresponding curves $y(t) = v_0t − 0.5gt^2$ in the same figure (set $g = 9.81$). Let $t \\in [0, 2v_0/g$] for each curve, which implies that you need a different vector of $t$ coordinates for each curve."
   ]
  },
  {
   "cell_type": "code",
   "execution_count": 47,
   "metadata": {},
   "outputs": [
    {
     "name": "stdout",
     "output_type": "stream",
     "text": [
      "Populating the interactive namespace from numpy and matplotlib\n"
     ]
    },
    {
     "data": {
      "application/vnd.jupyter.widget-view+json": {
       "model_id": "51e2e1aedff347e39152af040ba83a96",
       "version_major": 2,
       "version_minor": 0
      },
      "text/plain": [
       "A Jupyter Widget"
      ]
     },
     "metadata": {},
     "output_type": "display_data"
    }
   ],
   "source": [
    "%pylab inline\n",
    "from ipywidgets import widgets\n",
    "from IPython.display import display, clear_output\n",
    "\n",
    "g=9.81\n",
    "\n",
    "n=50 # number of points to be plotted for each curve\n",
    "\n",
    "# Let the user enter v0 values\n",
    "def plot_functions(sender):\n",
    "\n",
    "    try:\n",
    "        v0_strings = sender.value.split(\",\")\n",
    "        v0_list = [float(v0_string) for v0_string in v0_strings]\n",
    "    except:\n",
    "        print(\"ERROR: invalid input, expects a series of numbers separated by a ','\")\n",
    "        return 1\n",
    "    \n",
    "    n_curves = len(v0_list)\n",
    "    v0 = array(v0_list)\n",
    "\n",
    "    t=zeros((n_curves,n))\n",
    "    y=zeros((n_curves,n))\n",
    "    for xx in range(n_curves):\n",
    "        t[xx]=linspace(0,2*v0[xx]/g,n) # generate n points between 0 and 2*v0/g\n",
    "        y[xx]=v0[xx]*t[xx] - 0.5*g*t[xx]**2\n",
    "    \n",
    "    # plot graph\n",
    "    for i in range(n_curves):\n",
    "        ll='v0='+str(v0[i]) # text for curve label in legend\n",
    "        plt=plot(t[i],y[i],label=ll)\n",
    "\n",
    "    legend()\n",
    "    xlabel('time (s)')\n",
    "    ylabel('height (m)')\n",
    "    show()\n",
    "\n",
    "\n",
    "widget_plot = widgets.Text()\n",
    "widget_plot.on_submit(plot_functions)\n",
    "display(widget_plot)"
   ]
  },
  {
   "cell_type": "markdown",
   "metadata": {},
   "source": [
    "* **Plot another formula**</br>\n",
    "The function</br></br>\n",
    "$f(x, t) = \\exp(-(x - 3t)^2)\\sin(3\\pi(x - t))$\n",
    "</br></br>\n",
    "describes, for a fixed value of *t*, a wave localized in space. Make a program that visualizes this function as a function of *x* on the interval [−4, 4] when *t* = 0."
   ]
  },
  {
   "cell_type": "code",
   "execution_count": 48,
   "metadata": {},
   "outputs": [
    {
     "data": {
      "image/png": "[encoded data removed]",
      "text/plain": [
       "<matplotlib.figure.Figure at 0x2ba0167c56a0>"
      ]
     },
     "metadata": {},
     "output_type": "display_data"
    }
   ],
   "source": [
    "from pylab import *\n",
    "\n",
    "def f(x,t):\n",
    "    return exp(-(x-3*t)**2)*sin(3*pi*(x-t))\n",
    "\n",
    "n=500 # number of points to be plotted on the graph\n",
    "x=linspace(-4.,4.,n) \n",
    "y=f(x,0.0)\n",
    "\n",
    "# plot graph\n",
    "plot(x,y)\n",
    "xlabel('x')\n",
    "ylabel('f')\n",
    "show()"
   ]
  },
  {
   "cell_type": "markdown",
   "metadata": {},
   "source": [
    "* **Implement matrix-vector multiplication**</br>\n",
    "A matrix $\\mathbf{A}$ and a vector $\\mathbf{b}$, represented in Python as a 2D array and a 1D array respectively, are given by:\n",
    "\n",
    "$$\n",
    "\\mathbf{A} = \\left\\lbrack\\begin{array}{ccc}\n",
    "0 & 12 & -1\\cr\n",
    "-1 & -1 & -1\\cr\n",
    "11 & 5 & 5\n",
    "\\end{array}\\right\\rbrack\n",
    "$$\n",
    "\n",
    "$$\n",
    "\\mathbf{b} = \\left\\lbrack\\begin{array}{c}\n",
    "-2\\cr\n",
    "1\\cr\n",
    "7\n",
    "\\end{array}\\right\\rbrack\n",
    "$$\n",
    "\n",
    "Multiplying a matrix by a vector results in another vector $\\mathbf{c}$, whose components are defined by the general rule\n",
    "\n",
    "$$\\mathbf{c}_i = \\sum_j\\mathbf{A}_{i,j}\\mathbf{b}_j$$\n",
    "\n",
    "Define $\\mathbf{A}$ and $\\mathbf{b}$ as NumPy arrays, and multiply them together using the above rule."
   ]
  },
  {
   "cell_type": "code",
   "execution_count": 49,
   "metadata": {},
   "outputs": [
    {
     "name": "stdout",
     "output_type": "stream",
     "text": [
      "The vector c =  [  5.  -6.  18.]\n"
     ]
    }
   ],
   "source": [
    "from numpy import *\n",
    "A = array([[0, 12, -1], [-1, -1, -1], [11, 5, 5]])\n",
    "b = array([-2, 1, 7])\n",
    "\n",
    "if A.shape[0] != A.shape[1] or A.shape[0] != b.shape[0]:\n",
    "    raise RunTimeError(\"A should be square and b a vector of the same size as A\")\n",
    "\n",
    "c = zeros(b.shape[0])\n",
    "for i in range(0, b.shape[0]):\n",
    "    s = 0 # s holds the sum of A[i][j]*b[j] over the index j\n",
    "    for j in range(0, b.shape[0]):\n",
    "        s += A[i][j]*b[j]\n",
    "    c[i] = s\n",
    "    \n",
    "print(\"The vector c = \", c)"
   ]
  },
  {
   "cell_type": "code",
   "execution_count": null,
   "metadata": {
    "collapsed": true
   },
   "outputs": [],
   "source": []
  }
 ],
 "metadata": {
  "kernelspec": {
   "display_name": "Python 3",
   "language": "python",
   "name": "python3"
  },
  "language_info": {
   "codemirror_mode": {
    "name": "ipython",
    "version": 3
   },
   "file_extension": ".py",
   "mimetype": "text/x-python",
   "name": "python",
   "nbconvert_exporter": "python",
   "pygments_lexer": "ipython3",
   "version": "3.5.2"
  }
 },
 "nbformat": 4,
 "nbformat_minor": 1
}
