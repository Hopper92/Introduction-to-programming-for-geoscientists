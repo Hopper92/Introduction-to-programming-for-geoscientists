{
 "cells": [
  {
   "cell_type": "markdown",
   "metadata": {},
   "source": [
    "# Introduction to programming for Geoscientists (through Python)"
   ]
  },
  {
   "cell_type": "markdown",
   "metadata": {},
   "source": [
    "# Solutions to Lecture 3 Exercises: Input data and error handling\n",
    "## Gerard J. Gorman (g.gorman@imperial.ac.uk) http://www.imperial.ac.uk/people/g.gorman"
   ]
  },
  {
   "cell_type": "markdown",
   "metadata": {},
   "source": [
    "* **Exercise 1: Make an interactive program**</br>\n",
    "Make a program that (i) asks the user for a temperature in Fahrenheit degrees and reads the number; (ii) computes the corresponding temperature in Celsius degrees; and (iii) prints out the temperature in the Celsius scale."
   ]
  },
  {
   "cell_type": "code",
   "execution_count": 1,
   "metadata": {},
   "outputs": [
    {
     "name": "stdout",
     "output_type": "stream",
     "text": [
      "C=? 0\n",
      "0.0 degrees Fahrenheit is -17.8 degrees Celsius\n"
     ]
    }
   ],
   "source": [
    "# Make an interactive program\n",
    "\n",
    "F = float(input(\"C=? \")) # Input F becomes a float\n",
    "C = (F - 32)*(5./9.) # Computes temperature in Celsius\n",
    "print(\"%.1f degrees Fahrenheit is %.1f degrees Celsius\" % (F, C)) # Prints computed value"
   ]
  },
  {
   "cell_type": "markdown",
   "metadata": {},
   "source": [
    "* **Exercise 2: Prompt the user for input to a formula**</br>\n",
    "Consider the simplest program for evaluting the formula $y(t) = v_0 t − 0.5gt^2$:"
   ]
  },
  {
   "cell_type": "code",
   "execution_count": 2,
   "metadata": {},
   "outputs": [
    {
     "name": "stdout",
     "output_type": "stream",
     "text": [
      "0.034199999999999786\n"
     ]
    }
   ],
   "source": [
    "v0 = 3; g = 9.81; t = 0.6\n",
    "y = v0*t - 0.5*g*t**2\n",
    "print(y)"
   ]
  },
  {
   "cell_type": "markdown",
   "metadata": {},
   "source": [
    "Modify this code so that the program asks the user questions *t=?* and *v0=?*, and then gets *t* and *v0* from the user's input through the keyboard."
   ]
  },
  {
   "cell_type": "code",
   "execution_count": 4,
   "metadata": {},
   "outputs": [
    {
     "name": "stdout",
     "output_type": "stream",
     "text": [
      "v0=? 1\n",
      "t=? 1\n",
      "-3.9050000000000002\n"
     ]
    }
   ],
   "source": [
    "# Prompt the user for input to a formula\n",
    "\n",
    "g = 9.81 # Assigns g value\n",
    "\n",
    "v0 = float(input(\"v0=? \")) # Input v0 becomes a float\n",
    "t = float(input(\"t=? \")) # Input t becomes a float\n",
    "\n",
    "y = v0*t - 0.5*g*t**2 # Computes y\n",
    "print(y) # Prints computed value"
   ]
  },
  {
   "cell_type": "markdown",
   "metadata": {},
   "source": [
    "* **Exercise 3 - Use exceptions**</br>\n",
    "Extend the program from the previous exercise with a try-except block to handle the potential error that the user enters nothing (or invalid data such as a letter) for the Fahrenheit temperature."
   ]
  },
  {
   "cell_type": "code",
   "execution_count": 5,
   "metadata": {},
   "outputs": [
    {
     "name": "stdout",
     "output_type": "stream",
     "text": [
      "C=? 0\n",
      "0.0 degrees Fahrenheit is -17.8 degrees Celsius\n"
     ]
    }
   ],
   "source": [
    "# Use exceptions\n",
    "\n",
    "try: # Section of code to try\n",
    "    F = float(input(\"C=? \")) # Input F becomes a float\n",
    "except: # Code executed if there is an error in input (e.g. no input, a letter, etc.)\n",
    "    print(\"ERROR: You must enter a valid Fahrenheit temperature\") # Error message to user\n",
    "\n",
    "C = (F - 32)*(5./9.) # Computes temperature in Celsius\n",
    "print(\"%.1f degrees Fahrenheit is %.1f degrees Celsius\" % (F, C)) # Prints computed value"
   ]
  },
  {
   "cell_type": "markdown",
   "metadata": {},
   "source": [
    "* **Exercise 4a: Make the program safer**</br>\n",
    "Extend the program from the previous exercise to include exception handling such that missing (or invalid) values for *t* and *v0* are detected. In the *except ValueError* block, use the raw_input function to ask the user for input data once more."
   ]
  },
  {
   "cell_type": "code",
   "execution_count": 6,
   "metadata": {},
   "outputs": [
    {
     "name": "stdout",
     "output_type": "stream",
     "text": [
      "v0=? 0\n",
      "t=? 0\n",
      "0.0\n"
     ]
    }
   ],
   "source": [
    "# Make the program safer\n",
    "\n",
    "g = 9.81 # Assigns g value\n",
    "\n",
    "try: # Section of code to try\n",
    "    v0 = float(input(\"v0=? \")) # Input v0 becomes a float\n",
    "    t = float(input(\"t=? \")) # Input t becomes a float\n",
    "except ValueError: # Code executed if there is an error in input\n",
    "    print(\"ERROR: Please enter valid v0 and t values\") # Error message to the user\n",
    "    v0 = float(input(\"v0=? \")) # Asks user again for v0\n",
    "    t = float(input(\"t=? \")) # Asks user again for t\n",
    "\n",
    "y = v0*t - 0.5*g*t**2 # Computes y value\n",
    "print(y) # Prints computed value"
   ]
  },
  {
   "cell_type": "markdown",
   "metadata": {},
   "source": [
    "* **Exercise 4b: Test more in the program**</br>\n",
    "Test if the *t* value read in the program from the previous exercise lies between $0$ and ${2v_0}/{g}$. If not, print a message and abort execution."
   ]
  },
  {
   "cell_type": "code",
   "execution_count": 9,
   "metadata": {},
   "outputs": [
    {
     "name": "stdout",
     "output_type": "stream",
     "text": [
      "v0=? 9\n",
      "t=? 9\n",
      "ERROR: t must lie between 0 and 2*v0/g\n"
     ]
    },
    {
     "ename": "SystemExit",
     "evalue": "1",
     "output_type": "error",
     "traceback": [
      "An exception has occurred, use %tb to see the full traceback.\n",
      "\u001b[0;31mSystemExit\u001b[0m\u001b[0;31m:\u001b[0m 1\n"
     ]
    },
    {
     "name": "stderr",
     "output_type": "stream",
     "text": [
      "/home/nbuser/anaconda3_431/lib/python3.6/site-packages/IPython/core/interactiveshell.py:2870: UserWarning: To exit: use 'exit', 'quit', or Ctrl-D.\n",
      "  warn(\"To exit: use 'exit', 'quit', or Ctrl-D.\", stacklevel=1)\n"
     ]
    }
   ],
   "source": [
    "# Test more in the program\n",
    "\n",
    "import sys # Imports sys module\n",
    "\n",
    "g = 9.81 # Assigns g value\n",
    "\n",
    "try: # Section of code to try\n",
    "    v0 = float(input(\"v0=? \")) # Input v0 becomes a float\n",
    "    t = float(input(\"t=? \")) # Input t becomes a float\n",
    "except ValueError: # Code executed if there is an error in input\n",
    "    print(\"ERROR: Please enter valid v0 and t values\") # Error message to the user\n",
    "    v0 = float(input(\"v0=? \")) # Asks user again for v0\n",
    "    t = float(input(\"t=? \")) # Asks user again for t\n",
    "\n",
    "if not (t >= 0 and t <= (2.*v0/g)): # Test for correct t input\n",
    "    print(\"ERROR: t must lie between 0 and 2*v0/g\") # Error message to user\n",
    "    sys.exit(1) # Aborts execution\n",
    "\n",
    "y = v0*t - 0.5*g*t**2 # Computes y value\n",
    "print(y) # Prints computed value"
   ]
  },
  {
   "cell_type": "markdown",
   "metadata": {},
   "source": [
    "* **Exercise 4c: Raise an exception**</br>\n",
    "Instead of printing an error message and aborting the program explicitly, raise a *ValueError* exception in the *if* test on legal *t* values in the program from the previous exercise. Include the legal interval for *t* in the exception message."
   ]
  },
  {
   "cell_type": "code",
   "execution_count": 10,
   "metadata": {},
   "outputs": [
    {
     "name": "stdout",
     "output_type": "stream",
     "text": [
      "v0=? 5\n",
      "t=? 5\n"
     ]
    },
    {
     "ename": "ValueError",
     "evalue": "t must lie between 0 and 2*v0/g",
     "output_type": "error",
     "traceback": [
      "\u001b[0;31m---------------------------------------------------------------------------\u001b[0m",
      "\u001b[0;31mValueError\u001b[0m                                Traceback (most recent call last)",
      "\u001b[0;32m<ipython-input-10-ff4e9e05dc93>\u001b[0m in \u001b[0;36m<module>\u001b[0;34m()\u001b[0m\n\u001b[1;32m     14\u001b[0m \u001b[0;34m\u001b[0m\u001b[0m\n\u001b[1;32m     15\u001b[0m \u001b[0;32mif\u001b[0m \u001b[0;32mnot\u001b[0m \u001b[0;34m(\u001b[0m\u001b[0mt\u001b[0m \u001b[0;34m>=\u001b[0m \u001b[0;36m0\u001b[0m \u001b[0;32mand\u001b[0m \u001b[0mt\u001b[0m \u001b[0;34m<=\u001b[0m \u001b[0;34m(\u001b[0m\u001b[0;36m2.\u001b[0m\u001b[0;34m*\u001b[0m\u001b[0mv0\u001b[0m\u001b[0;34m/\u001b[0m\u001b[0mg\u001b[0m\u001b[0;34m)\u001b[0m\u001b[0;34m)\u001b[0m\u001b[0;34m:\u001b[0m \u001b[0;31m# Test for correct t input\u001b[0m\u001b[0;34m\u001b[0m\u001b[0m\n\u001b[0;32m---> 16\u001b[0;31m     \u001b[0;32mraise\u001b[0m \u001b[0mValueError\u001b[0m\u001b[0;34m(\u001b[0m\u001b[0;34m\"t must lie between 0 and 2*v0/g\"\u001b[0m\u001b[0;34m)\u001b[0m \u001b[0;31m# Raise ValueError for incorrect input\u001b[0m\u001b[0;34m\u001b[0m\u001b[0m\n\u001b[0m\u001b[1;32m     17\u001b[0m \u001b[0;34m\u001b[0m\u001b[0m\n\u001b[1;32m     18\u001b[0m \u001b[0my\u001b[0m \u001b[0;34m=\u001b[0m \u001b[0mv0\u001b[0m\u001b[0;34m*\u001b[0m\u001b[0mt\u001b[0m \u001b[0;34m-\u001b[0m \u001b[0;36m0.5\u001b[0m\u001b[0;34m*\u001b[0m\u001b[0mg\u001b[0m\u001b[0;34m*\u001b[0m\u001b[0mt\u001b[0m\u001b[0;34m**\u001b[0m\u001b[0;36m2\u001b[0m \u001b[0;31m# Computes y value\u001b[0m\u001b[0;34m\u001b[0m\u001b[0m\n",
      "\u001b[0;31mValueError\u001b[0m: t must lie between 0 and 2*v0/g"
     ]
    }
   ],
   "source": [
    "# Raise an exception\n",
    "\n",
    "import sys # Import sys module\n",
    "\n",
    "g = 9.81 # Assigns g value\n",
    "\n",
    "try: # Section of code to try\n",
    "    v0 = float(input(\"v0=? \")) # Input v0 becomes a float\n",
    "    t = float(input(\"t=? \")) # Input t becomes a float\n",
    "except ValueError: # Code executed if there is an error in input\n",
    "    print(\"ERROR: Please enter valid v0 and t values\") # Error message to the user\n",
    "    v0 = float(input(\"v0=? \")) # Asks user again for v0\n",
    "    t = float(input(\"t=? \")) # Asks user again for t\n",
    "\n",
    "if not (t >= 0 and t <= (2.*v0/g)): # Test for correct t input\n",
    "    raise ValueError(\"t must lie between 0 and 2*v0/g\") # Raise ValueError for incorrect input\n",
    "\n",
    "y = v0*t - 0.5*g*t**2 # Computes y value\n",
    "print(y) # Prints computed value\n"
   ]
  },
  {
   "cell_type": "markdown",
   "metadata": {},
   "source": [
    "* **Exercise 5: Compute the distance it takes to stop a car**</br>\n",
    "A car driver, driving at velocity $v_0$, suddenly puts on the brake. What braking distance $d$ is needed to stop the car? One can derive, from basic physics, that</br>\n",
    "$d = 0.5\\frac{v_0^2}{\\mu g}$</br>\n",
    "Make a program for computing $d$ using the above formula when the initial car velocity $v_0$ and the friction coefficient $\\mu$ are provided via the raw_input function. Run the\n",
    "program for two cases: $v_0$ = 120 and $v_0$ = 50 km/h, both with $\\mu$ = 0.3 ($\\mu$ is dimensionless). (Remember to convert the velocity from km/h to m/s before inserting the value in the formula!)"
   ]
  },
  {
   "cell_type": "code",
   "execution_count": 11,
   "metadata": {},
   "outputs": [
    {
     "name": "stdout",
     "output_type": "stream",
     "text": [
      "v0=? 2\n",
      "mu=? 2\n",
      "The braking distance of a car traveling at 2.00 km/h is 0.01 m\n"
     ]
    }
   ],
   "source": [
    "# Compute the distance it takes to stop a car\n",
    "\n",
    "g = 9.81 # Assigns g value\n",
    "\n",
    "v0_in = float(input(\"v0=? \")) # Input v0 (in km/h) becomes a float\n",
    "mu = float(input(\"mu=? \")) # Input mu becomes a float\n",
    "\n",
    "v0 = (v0_in*1000.)/3600. # Conversion from km/h to m/s\n",
    "\n",
    "d = (0.5*v0**2)/(mu*g) # Computes braking distance\n",
    "\n",
    "print(\"The braking distance of a car traveling at %.2f km/h is %.2f m\" % (v0_in, d)) # Prints braking distance of the car"
   ]
  },
  {
   "cell_type": "code",
   "execution_count": null,
   "metadata": {
    "collapsed": true
   },
   "outputs": [],
   "source": []
  }
 ],
 "metadata": {
  "kernelspec": {
   "display_name": "Python 3.6",
   "language": "python",
   "name": "python36"
  },
  "language_info": {
   "codemirror_mode": {
    "name": "ipython",
    "version": 3
   },
   "file_extension": ".py",
   "mimetype": "text/x-python",
   "name": "python",
   "nbconvert_exporter": "python",
   "pygments_lexer": "ipython3",
   "version": "3.6.0"
  }
 },
 "nbformat": 4,
 "nbformat_minor": 1
}
