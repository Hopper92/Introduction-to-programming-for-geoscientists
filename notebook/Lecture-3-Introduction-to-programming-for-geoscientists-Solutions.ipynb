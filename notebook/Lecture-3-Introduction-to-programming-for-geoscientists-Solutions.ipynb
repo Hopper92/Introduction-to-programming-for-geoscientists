{
 "cells": [
  {
   "cell_type": "markdown",
   "metadata": {},
   "source": [
    "# Introduction to programming for Geoscientists (through Python)"
   ]
  },
  {
   "cell_type": "markdown",
   "metadata": {},
   "source": [
    "# Solutions to Lecture 3 Exercises: Input data and error handling\n",
    "## Gerard J. Gorman (g.gorman@imperial.ac.uk) http://www.imperial.ac.uk/people/g.gorman"
   ]
  },
  {
   "cell_type": "markdown",
   "metadata": {},
   "source": [
    "* **Exercise 1: Make an interactive program**</br>\n",
    "Make a program that (i) asks the user for a temperature in Fahrenheit degrees and reads the number; (ii) computes the corresponding temperature in Celsius degrees; and (iii) prints out the temperature in the Celsius scale."
   ]
  },
  {
   "cell_type": "code",
   "execution_count": null,
   "metadata": {
    "collapsed": false
   },
   "outputs": [],
   "source": [
    "# Make an interactive program\n",
    "\n",
    "F = float(raw_input(\"C=? \")) # Input F becomes a float\n",
    "C = (F - 32)*(5./9.) # Computes temperature in Celsius\n",
    "print \"%.1f degrees Fahrenheit is %.1f degrees Celsius\" % (F, C) # Prints computed value"
   ]
  },
  {
   "cell_type": "markdown",
   "metadata": {},
   "source": [
    "* **Exercise 2: Prompt the user for input to a formula**</br>\n",
    "Consider the simplest program for evaluting the formula $y(t) = v_0 t − 0.5gt^2$:"
   ]
  },
  {
   "cell_type": "code",
   "execution_count": 1,
   "metadata": {
    "collapsed": false
   },
   "outputs": [
    {
     "name": "stdout",
     "output_type": "stream",
     "text": [
      "0.0342\n"
     ]
    }
   ],
   "source": [
    "v0 = 3; g = 9.81; t = 0.6\n",
    "y = v0*t - 0.5*g*t**2\n",
    "print y"
   ]
  },
  {
   "cell_type": "markdown",
   "metadata": {},
   "source": [
    "Modify this code so that the program asks the user questions *t=?* and *v0=?*, and then gets *t* and *v0* from the user's input through the keyboard."
   ]
  },
  {
   "cell_type": "code",
   "execution_count": null,
   "metadata": {
    "collapsed": false
   },
   "outputs": [],
   "source": [
    "# Prompt the user for input to a formula\n",
    "\n",
    "g = 9.81 # Assigns g value\n",
    "\n",
    "v0 = float(raw_input(\"v0=? \")) # Input v0 becomes a float\n",
    "t = float(raw_input(\"t=? \")) # Input t becomes a float\n",
    "\n",
    "y = v0*t - 0.5*g*t**2 # Computes y\n",
    "print y # Prints computed value"
   ]
  },
  {
   "cell_type": "markdown",
   "metadata": {},
   "source": [
    "* **Exercise 3 - Use exceptions**</br>\n",
    "Extend the program from the previous exercise with a try-except block to handle the potential error that the user enters nothing (or invalid data such as a letter) for the Fahrenheit temperature."
   ]
  },
  {
   "cell_type": "code",
   "execution_count": null,
   "metadata": {
    "collapsed": false
   },
   "outputs": [],
   "source": [
    "# Use exceptions\n",
    "\n",
    "try: # Section of code to try\n",
    "    F = float(raw_input(\"C=? \")) # Input F becomes a float\n",
    "except: # Code executed if there is an error in input (e.g. no input, a letter, etc.)\n",
    "    print \"ERROR: You must enter a valid Fahrenheit temperature\" # Error message to user\n",
    "\n",
    "C = (F - 32)*(5./9.) # Computes temperature in Celsius\n",
    "print \"%.1f degrees Fahrenheit is %.1f degrees Celsius\" % (F, C) # Prints computed value"
   ]
  },
  {
   "cell_type": "markdown",
   "metadata": {},
   "source": [
    "* **Exercise 4a: Make the program safer**</br>\n",
    "Extend the program from the previous exercise to include exception handling such that missing (or invalid) values for *t* and *v0* are detected. In the *except ValueError* block, use the raw_input function to ask the user for input data once more."
   ]
  },
  {
   "cell_type": "code",
   "execution_count": null,
   "metadata": {
    "collapsed": false
   },
   "outputs": [],
   "source": [
    "# Make the program safer\n",
    "\n",
    "g = 9.81 # Assigns g value\n",
    "\n",
    "try: # Section of code to try\n",
    "    v0 = float(raw_input(\"v0=? \")) # Input v0 becomes a float\n",
    "    t = float(raw_input(\"t=? \")) # Input t becomes a float\n",
    "except ValueError: # Code executed if there is an error in input\n",
    "    print \"ERROR: Please enter valid v0 and t values\" # Error message to the user\n",
    "    v0 = float(raw_input(\"v0=? \")) # Asks user again for v0\n",
    "    t = float(raw_input(\"t=? \")) # Asks user again for t\n",
    "\n",
    "y = v0*t - 0.5*g*t**2 # Computes y value\n",
    "print y # Prints computed value"
   ]
  },
  {
   "cell_type": "markdown",
   "metadata": {},
   "source": [
    "* **Exercise 4b: Test more in the program**</br>\n",
    "Test if the *t* value read in the program from the previous exercise lies between $0$ and ${2v_0}/{g}$. If not, print a message and abort execution."
   ]
  },
  {
   "cell_type": "code",
   "execution_count": null,
   "metadata": {
    "collapsed": false
   },
   "outputs": [],
   "source": [
    "# Test more in the program\n",
    "\n",
    "import sys # Imports sys module\n",
    "\n",
    "g = 9.81 # Assigns g value\n",
    "\n",
    "try: # Section of code to try\n",
    "    v0 = float(raw_input(\"v0=? \")) # Input v0 becomes a float\n",
    "    t = float(raw_input(\"t=? \")) # Input t becomes a float\n",
    "except ValueError: # Code executed if there is an error in input\n",
    "    print \"ERROR: Please enter valid v0 and t values\" # Error message to the user\n",
    "    v0 = float(raw_input(\"v0=? \")) # Asks user again for v0\n",
    "    t = float(raw_input(\"t=? \")) # Asks user again for t\n",
    "\n",
    "if not (t >= 0 and t <= (2.*v0/g)): # Test for correct t input\n",
    "    print \"ERROR: t must lie between 0 and 2*v0/g\" # Error message to user\n",
    "    sys.exit(1) # Aborts execution\n",
    "\n",
    "y = v0*t - 0.5*g*t**2 # Computes y value\n",
    "print y # Prints computed value"
   ]
  },
  {
   "cell_type": "markdown",
   "metadata": {},
   "source": [
    "* **Exercise 4c: Raise an exception**</br>\n",
    "Instead of printing an error message and aborting the program explicitly, raise a *ValueError* exception in the *if* test on legal *t* values in the program from the previous exercise. Include the legal interval for *t* in the exception message."
   ]
  },
  {
   "cell_type": "code",
   "execution_count": null,
   "metadata": {
    "collapsed": false
   },
   "outputs": [],
   "source": [
    "# Raise an exception\n",
    "\n",
    "import sys # Import sys module\n",
    "\n",
    "g = 9.81 # Assigns g value\n",
    "\n",
    "try: # Section of code to try\n",
    "    v0 = float(raw_input(\"v0=? \")) # Input v0 becomes a float\n",
    "    t = float(raw_input(\"t=? \")) # Input t becomes a float\n",
    "except ValueError: # Code executed if there is an error in input\n",
    "    print \"ERROR: Please enter valid v0 and t values\" # Error message to the user\n",
    "    v0 = float(raw_input(\"v0=? \")) # Asks user again for v0\n",
    "    t = float(raw_input(\"t=? \")) # Asks user again for t\n",
    "\n",
    "if not (t >= 0 and t <= (2.*v0/g)): # Test for correct t input\n",
    "    raise ValueError(\"t must lie between 0 and 2*v0/g\") # Raise ValueError for incorrect input\n",
    "\n",
    "y = v0*t - 0.5*g*t**2 # Computes y value\n",
    "print y # Prints computed value\n"
   ]
  },
  {
   "cell_type": "markdown",
   "metadata": {},
   "source": [
    "* **Exercise 5: Compute the distance it takes to stop a car**</br>\n",
    "A car driver, driving at velocity $v_0$, suddenly puts on the brake. What braking distance $d$ is needed to stop the car? One can derive, from basic physics, that</br>\n",
    "$d = 0.5\\frac{v_0^2}{\\mu g}$</br>\n",
    "Make a program for computing $d$ using the above formula when the initial car velocity $v_0$ and the friction coefficient $\\mu$ are provided via the raw_input function. Run the\n",
    "program for two cases: $v_0$ = 120 and $v_0$ = 50 km/h, both with $\\mu$ = 0.3 ($\\mu$ is dimensionless). (Remember to convert the velocity from km/h to m/s before inserting the value in the formula!)"
   ]
  },
  {
   "cell_type": "code",
   "execution_count": null,
   "metadata": {
    "collapsed": false
   },
   "outputs": [],
   "source": [
    "# Compute the distance it takes to stop a car\n",
    "\n",
    "g = 9.81 # Assigns g value\n",
    "\n",
    "v0_in = float(raw_input(\"v0=? \")) # Input v0 (in km/h) becomes a float\n",
    "mu = float(raw_input(\"mu=? \")) # Input mu becomes a float\n",
    "\n",
    "v0 = (v0_in*1000.)/3600. # Conversion from km/h to m/s\n",
    "\n",
    "d = (0.5*v0**2)/(mu*g) # Computes braking distance\n",
    "\n",
    "print \"The braking distance of a car traveling at %.2f km/h is %.2f m\" % (v0_in, d) # Prints braking distance of the car"
   ]
  }
 ],
 "metadata": {
  "kernelspec": {
   "display_name": "Python 2",
   "language": "python",
   "name": "python2"
  },
  "language_info": {
   "codemirror_mode": {
    "name": "ipython",
    "version": 2
   },
   "file_extension": ".py",
   "mimetype": "text/x-python",
   "name": "python",
   "nbconvert_exporter": "python",
   "pygments_lexer": "ipython2",
   "version": "2.7.11"
  }
 },
 "nbformat": 4,
 "nbformat_minor": 0
}
