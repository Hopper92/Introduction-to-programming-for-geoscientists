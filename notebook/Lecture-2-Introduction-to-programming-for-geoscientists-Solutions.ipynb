{
 "cells": [
  {
   "cell_type": "markdown",
   "metadata": {},
   "source": [
    "# Introduction to programming for Geoscientists (through Python)"
   ]
  },
  {
   "cell_type": "markdown",
   "metadata": {},
   "source": [
    "# Solutions to Lecture 2 Exercises: Computing with basic language constructions\n",
    "## Gerard J. Gorman (g.gorman@imperial.ac.uk) http://www.imperial.ac.uk/people/g.gorman"
   ]
  },
  {
   "cell_type": "code",
   "execution_count": 1,
   "metadata": {
    "collapsed": true
   },
   "outputs": [],
   "source": [
    "%load_ext pep8_magic"
   ]
  },
  {
   "cell_type": "markdown",
   "metadata": {},
   "source": [
    "* **Make a Fahrenheit-Celsius conversion table**</br>\n",
    "Write a program that prints out a table with Fahrenheit degrees 0, 10, 20, ..., 100 in the first column and the corresponding Celsius degrees in the second column."
   ]
  },
  {
   "cell_type": "code",
   "execution_count": 2,
   "metadata": {
    "collapsed": false
   },
   "outputs": [
    {
     "name": "stdout",
     "output_type": "stream",
     "text": [
      "0 -17.7777777778\n",
      "10 -12.2222222222\n",
      "20 -6.66666666667\n",
      "30 -1.11111111111\n",
      "40 4.44444444444\n",
      "50 10.0\n",
      "60 15.5555555556\n",
      "70 21.1111111111\n",
      "80 26.6666666667\n",
      "90 32.2222222222\n",
      "100 37.7777777778\n"
     ]
    }
   ],
   "source": [
    "# Make a Fahrenheit-Celsius conversion table\n",
    "F = 0                        # Initialise F\n",
    "dF = 10                      # Increment for F within the loop\n",
    "while F <= 100:              # Loop heading with condition\n",
    "    C = (F - 32)*(5.0/9.0)   # 1st statement inside loop\n",
    "    print F, C               # 2nd statement inside loop\n",
    "    F = F + dF               # Increment F for the next iteration of the loop."
   ]
  },
  {
   "cell_type": "markdown",
   "metadata": {},
   "source": [
    "* **Write an approximate Fahrenheit-Celsius conversion table**</br>\n",
    "Many people use an approximate formula for quickly converting Fahrenheit ($F$) to Celsius ($C$) degrees:</br></br>\n",
    "$C \\approx \\hat{C} = \\frac{F − 30}{2}$</br></br>\n",
    "Modify the program from the previous exercise so that it prints three columns: $F$, $C$, and the approximate value $\\hat{C}$."
   ]
  },
  {
   "cell_type": "code",
   "execution_count": 3,
   "metadata": {
    "collapsed": false
   },
   "outputs": [
    {
     "name": "stdout",
     "output_type": "stream",
     "text": [
      "0 -17.7777777778 -15.0\n",
      "10 -12.2222222222 -10.0\n",
      "20 -6.66666666667 -5.0\n",
      "30 -1.11111111111 0.0\n",
      "40 4.44444444444 5.0\n",
      "50 10.0 10.0\n",
      "60 15.5555555556 15.0\n",
      "70 21.1111111111 20.0\n",
      "80 26.6666666667 25.0\n",
      "90 32.2222222222 30.0\n",
      "100 37.7777777778 35.0\n"
     ]
    }
   ],
   "source": [
    "# Write an approximate Fahrenheit-Celsius conversion table\n",
    "F = 0                      # Initialise F\n",
    "dF = 10                    # Increment for F within the loop\n",
    "while F <= 100:            # Loop heading with condition\n",
    "    C = (F - 32)*(5.0/9.0) # 1st statement inside loop\n",
    "    C_hat = (F - 30)/2.0   # Compute the approximate value of C.\n",
    "    print F, C, C_hat      # 2nd statement inside loop\n",
    "    F = F + dF             # Increment F for the next iteration of the loop."
   ]
  },
  {
   "cell_type": "markdown",
   "metadata": {},
   "source": [
    "* **Values of boolean expressions**</br>\n",
    "Explain the outcome of each of the following boolean expressions:"
   ]
  },
  {
   "cell_type": "code",
   "execution_count": 4,
   "metadata": {
    "collapsed": false
   },
   "outputs": [
    {
     "data": {
      "text/plain": [
       "True"
      ]
     },
     "execution_count": 4,
     "metadata": {},
     "output_type": "execute_result"
    }
   ],
   "source": [
    "C = 41\n",
    "\n",
    "# The value of C must be equal to 40 for this condition to be True. Otherwise,\n",
    "# this condition is False. Of course, 41 is not equal to 40, so this particular\n",
    "# condition is False.\n",
    "C == 40\n",
    "\n",
    "# Both conditions (C != 40 *and* C < 41) must be True for the whole statement\n",
    "# to be True. Although the first condition is True, the second condition is\n",
    "# False since C is not less than 41, so the whole statement is False.\n",
    "C != 40 and C < 41\n",
    "\n",
    "# Here, only one of the two conditions needs to be True in order for the whole\n",
    "# statement to be True. Since C != 40 is True, this particular statement is True.\n",
    "C != 40 or C < 41\n",
    "\n",
    "# The *not* keyword just negates whatever condition follows it. In this case,\n",
    "# C == 40 is False, so 'not C == 40' will return the opposite (True).\n",
    "not C == 40\n",
    "\n",
    "# C > 40 is True, so 'not C > 40' is False\n",
    "not C > 40\n",
    "\n",
    "# For this condition to be True, C must either be less than 40 *or* equal to 40.\n",
    "# If neither of these are True, then the condition is False.\n",
    "C <= 41\n",
    "\n",
    "# The *not* keyword will negate the result, so 'not False' is 'True'.\n",
    "not False\n",
    "\n",
    "# With the *and* logical operator, both conditions must be True for the whole \n",
    "# statement to be True. In this particular case, the statement is False.\n",
    "True and False\n",
    "\n",
    "# With the *or* logical operator, this whole statement is True since at least\n",
    "# one of the conditions is True.\n",
    "False or True\n",
    "\n",
    "# None of the conditions are True, so the whole statement is False.\n",
    "False or False or False\n",
    "\n",
    "# At least one of the conditions is False, so the whole statement is False.\n",
    "True and True and False\n",
    "\n",
    "# The integer value of False is 0, so this statement is True\n",
    "False == 0\n",
    "\n",
    "# The integer value of True is 1, so this statement is False\n",
    "True == 0\n",
    "\n",
    "# This statement is True (see above).\n",
    "True == 1"
   ]
  },
  {
   "cell_type": "markdown",
   "metadata": {},
   "source": [
    "* **Generate odd numbers**</br>\n",
    "Write a program that generates all odd numbers from 1 to *n*. Set *n* in the beginning of the program and use a while loop to compute the numbers. (Make sure that if *n* is an even number, the largest generated odd number is *n*-1.)."
   ]
  },
  {
   "cell_type": "code",
   "execution_count": 5,
   "metadata": {
    "collapsed": false
   },
   "outputs": [
    {
     "name": "stdout",
     "output_type": "stream",
     "text": [
      "1\n",
      "3\n",
      "5\n",
      "7\n",
      "9\n",
      "11\n",
      "13\n",
      "15\n"
     ]
    }
   ],
   "source": [
    "# Generate odd numbers\n",
    "n = 16\n",
    "\n",
    "i = 1\n",
    "while i <= n:\n",
    "    print i\n",
    "    i = i + 2 # Increase the counter by 2 each time to get the next odd number"
   ]
  },
  {
   "cell_type": "code",
   "execution_count": 6,
   "metadata": {
    "collapsed": false
   },
   "outputs": [
    {
     "name": "stdout",
     "output_type": "stream",
     "text": [
      "1\n",
      "3\n",
      "5\n",
      "7\n",
      "9\n",
      "11\n",
      "13\n",
      "15\n"
     ]
    }
   ],
   "source": [
    "# Generate odd numbers (Alternative solution using the modulus operator)\n",
    "n = 16\n",
    "\n",
    "i = 1\n",
    "while i <= n:\n",
    "    if(i % 2 != 0):\n",
    "        # The number i is odd if it is not divisible by 2 (i.e. if the\n",
    "        # modulus/remainder (%) of i divided by 2 is zero)\n",
    "        print i\n",
    "    i = i + 1"
   ]
  },
  {
   "cell_type": "markdown",
   "metadata": {},
   "source": [
    "* **Store odd numbers in a list**</br>\n",
    "Modify the program from the previous exercise to store the generated odd numbers in a list. Start with an empty list and use a while loop where you in each pass of the loop append a new element to the list. Finally, print the list elements to the screen."
   ]
  },
  {
   "cell_type": "code",
   "execution_count": 7,
   "metadata": {
    "collapsed": false
   },
   "outputs": [
    {
     "name": "stdout",
     "output_type": "stream",
     "text": [
      "The odd numbers list =  [1, 3, 5, 7, 9, 11, 13, 15]\n"
     ]
    }
   ],
   "source": [
    "# Store odd numbers in a list\n",
    "n = 16\n",
    "\n",
    "i = 1\n",
    "odd_numbers = []\n",
    "while i <= n:\n",
    "    odd_numbers.append(i) # Append the odd number 'i' to the list called 'odd_numbers'\n",
    "    i = i + 2\n",
    "print \"The odd numbers list = \", odd_numbers"
   ]
  },
  {
   "cell_type": "markdown",
   "metadata": {},
   "source": [
    "* **Generate odd numbers by a list comprehension**</br>\n",
    "Solve the exercise above using a list comprehension (with *for* and *range*)."
   ]
  },
  {
   "cell_type": "code",
   "execution_count": 8,
   "metadata": {
    "collapsed": false
   },
   "outputs": [
    {
     "name": "stdout",
     "output_type": "stream",
     "text": [
      "The odd numbers list =  [1, 3, 5, 7, 9, 11, 13, 15]\n",
      "The odd numbers list =  [1, 3, 5, 7, 9, 11, 13, 15]\n"
     ]
    }
   ],
   "source": [
    "# Generate odd numbers by a list comprehension\n",
    "n = 16\n",
    "\n",
    "# Use list comprehension to generate the list of odd numbers.\n",
    "# Remember to choose the step size to be 2 here.\n",
    "odd_numbers = [i for i in range(1, n+1, 2)]\n",
    "print \"The odd numbers list = \", odd_numbers\n",
    "\n",
    "# You could also do (using the default 'start' and 'step' values in the range function)\n",
    "odd_numbers = [2*i + 1 for i in range((n + 1)/2)]\n",
    "print \"The odd numbers list = \", odd_numbers"
   ]
  },
  {
   "cell_type": "markdown",
   "metadata": {},
   "source": [
    "* **Make a table of function values**</br>\n",
    "Write a program that prints a table with $t$ values in the first column and the corresponding $y(t) = v_0 t − 0.5gt^2$ values in the second column.\n",
    "Use $n$ uniformly spaced $t$ values throughout the interval [0, $2v_0/g$]. Set $v0 = 1$, $g = 9.81$, and $n = 11$."
   ]
  },
  {
   "cell_type": "code",
   "execution_count": 9,
   "metadata": {
    "collapsed": false
   },
   "outputs": [
    {
     "name": "stdout",
     "output_type": "stream",
     "text": [
      "0.000000, 0.000000\n",
      "0.020387, 0.018349\n",
      "0.040775, 0.032620\n",
      "0.061162, 0.042813\n",
      "0.081549, 0.048930\n",
      "0.101937, 0.050968\n",
      "0.122324, 0.048930\n",
      "0.142712, 0.042813\n",
      "0.163099, 0.032620\n",
      "0.183486, 0.018349\n",
      "0.203874, 0.000000\n"
     ]
    }
   ],
   "source": [
    "# Make a table of function values\n",
    "\n",
    "v0 = 1.0\n",
    "g = 9.81\n",
    "n = 11\n",
    "\n",
    "# The step size between each uniformly spaced value. \n",
    "# The end-points of the interval are included.\n",
    "step = (2*v0/g)/(n-1) \n",
    "\n",
    "for i in range(0, 11):\n",
    "    t = step*i\n",
    "    y = v0*t - 0.5*g*t**2\n",
    "    print \"%f, %f\" % (t, y)"
   ]
  },
  {
   "cell_type": "markdown",
   "metadata": {},
   "source": [
    "* **Store numbers in lists**</br>\n",
    "Modify the program from the previous exercise so that the $t$ and $y$ values are stored in two lists *t* and *y*. Thereafter, transverse the lists with a *for* loop and write out a nicely formatted table of *t* and *y* values (using either a *zip* or *range* construction)."
   ]
  },
  {
   "cell_type": "code",
   "execution_count": 10,
   "metadata": {
    "collapsed": false
   },
   "outputs": [
    {
     "name": "stdout",
     "output_type": "stream",
     "text": [
      "0.000000, 0.000000\n",
      "0.020387, 0.018349\n",
      "0.040775, 0.032620\n",
      "0.061162, 0.042813\n",
      "0.081549, 0.048930\n",
      "0.101937, 0.050968\n",
      "0.122324, 0.048930\n",
      "0.142712, 0.042813\n",
      "0.163099, 0.032620\n",
      "0.183486, 0.018349\n",
      "0.203874, 0.000000\n"
     ]
    }
   ],
   "source": [
    "# Store numbers in lists\n",
    "\n",
    "v0 = 1.0\n",
    "g = 9.81\n",
    "n = 11\n",
    "\n",
    "# The step size between each uniformly spaced value. \n",
    "# The end-points of the interval are included.\n",
    "step = (2*v0/g)/(n-1) \n",
    "\n",
    "t_list = []\n",
    "y_list = []\n",
    "for i in range(0, 11):\n",
    "    t = step*i\n",
    "    t_list.append(t)\n",
    "    y_list.append(v0*t - 0.5*g*t**2)\n",
    "\n",
    "for (t, y) in zip(t_list, y_list):\n",
    "    print \"%f, %f\" % (t, y)"
   ]
  },
  {
   "cell_type": "markdown",
   "metadata": {},
   "source": [
    "* **Work with a list**</br>\n",
    "Set a variable called *primes* to a list containing the numbers 2, 3, 5, 7, 11, and 13. Write out each list element in a *for* loop. Assign 17 to a variable *p* and add *p* to the end of the list. Print out the whole new list. "
   ]
  },
  {
   "cell_type": "code",
   "execution_count": 11,
   "metadata": {
    "collapsed": false
   },
   "outputs": [
    {
     "name": "stdout",
     "output_type": "stream",
     "text": [
      "2\n",
      "3\n",
      "5\n",
      "7\n",
      "11\n",
      "13\n",
      "The new list after adding p = 17 is:  [2, 3, 5, 7, 11, 13, 17]\n"
     ]
    }
   ],
   "source": [
    "# Work with a list\n",
    "\n",
    "primes = [2, 3, 5, 7, 11, 13]\n",
    "\n",
    "for prime in primes:\n",
    "    print prime\n",
    "\n",
    "p = 17\n",
    "primes.append(p)\n",
    "print \"The new list after adding p = 17 is: \", primes"
   ]
  },
  {
   "cell_type": "markdown",
   "metadata": {},
   "source": [
    "* **Generate equally spaced coordinates**</br>\n",
    "We want to generate $x$ coordinates between 1 and 2 with spacing 0.01. The coordinates are given by the formula $x_i = 1 + ih$, where $h$ = 0.01 and $i$ runs over integers 0, 1, ..., 100. Compute the $x_i$ values and store them in a list. Use a *for* loop, and append each new $x_i$ value to a list, which is empty initially."
   ]
  },
  {
   "cell_type": "code",
   "execution_count": 12,
   "metadata": {
    "collapsed": false
   },
   "outputs": [
    {
     "name": "stdout",
     "output_type": "stream",
     "text": [
      "x_list =  [1.0, 1.01, 1.02, 1.03, 1.04, 1.05, 1.06, 1.07, 1.08, 1.09, 1.1, 1.11, 1.12, 1.13, 1.1400000000000001, 1.15, 1.16, 1.17, 1.18, 1.19, 1.2, 1.21, 1.22, 1.23, 1.24, 1.25, 1.26, 1.27, 1.28, 1.29, 1.3, 1.31, 1.32, 1.33, 1.34, 1.35, 1.3599999999999999, 1.37, 1.38, 1.3900000000000001, 1.4, 1.4100000000000001, 1.42, 1.43, 1.44, 1.45, 1.46, 1.47, 1.48, 1.49, 1.5, 1.51, 1.52, 1.53, 1.54, 1.55, 1.56, 1.57, 1.58, 1.5899999999999999, 1.6, 1.6099999999999999, 1.62, 1.63, 1.6400000000000001, 1.65, 1.6600000000000001, 1.67, 1.6800000000000002, 1.69, 1.7000000000000002, 1.71, 1.72, 1.73, 1.74, 1.75, 1.76, 1.77, 1.78, 1.79, 1.8, 1.81, 1.82, 1.83, 1.8399999999999999, 1.85, 1.8599999999999999, 1.87, 1.88, 1.8900000000000001, 1.9, 1.9100000000000001, 1.92, 1.9300000000000002, 1.94, 1.9500000000000002, 1.96, 1.97, 1.98, 1.99, 2.0]\n"
     ]
    }
   ],
   "source": [
    "# Generate equally spaced coordinates\n",
    "\n",
    "h = 0.01\n",
    "x_list = []\n",
    "\n",
    "# Remember to use '101' as the 'end_number' value here,\n",
    "# since Python iterates up to end_number-1\n",
    "for i in range(0, 101):\n",
    "    x_i = 1 + i*h\n",
    "    x_list.append(x_i) # Append each x_i value to the end of x_list\n",
    "\n",
    "print \"x_list = \", x_list"
   ]
  },
  {
   "cell_type": "markdown",
   "metadata": {},
   "source": [
    "* **Implement a Gaussian function**</br>\n",
    "Make a Python function *gauss*( *x*, *m*=0, *s*=1) for computing the Gaussian function \n",
    "$$f(x)=\\frac{1}{\\sqrt{2\\pi}s}\\exp\\left(-\\frac{1}{2} \\left(\\frac{x-m}{s}\\right)^2\\right)$$\n",
    "Call the function and print out the result for x equal to −5, −4.9, −4.8, ..., 4.8, 4.9, 5, using default values for *m* and *s*."
   ]
  },
  {
   "cell_type": "code",
   "execution_count": 13,
   "metadata": {
    "collapsed": false
   },
   "outputs": [
    {
     "name": "stdout",
     "output_type": "stream",
     "text": [
      "For x = -5.000000, gaussian(x) = 0.000001\n",
      "For x = -4.900000, gaussian(x) = 0.000002\n",
      "For x = -4.800000, gaussian(x) = 0.000004\n",
      "For x = -4.700000, gaussian(x) = 0.000006\n",
      "For x = -4.600000, gaussian(x) = 0.000010\n",
      "For x = -4.500000, gaussian(x) = 0.000016\n",
      "For x = -4.400000, gaussian(x) = 0.000025\n",
      "For x = -4.300000, gaussian(x) = 0.000039\n",
      "For x = -4.200000, gaussian(x) = 0.000059\n",
      "For x = -4.100000, gaussian(x) = 0.000089\n",
      "For x = -4.000000, gaussian(x) = 0.000134\n",
      "For x = -3.900000, gaussian(x) = 0.000199\n",
      "For x = -3.800000, gaussian(x) = 0.000292\n",
      "For x = -3.700000, gaussian(x) = 0.000425\n",
      "For x = -3.600000, gaussian(x) = 0.000612\n",
      "For x = -3.500000, gaussian(x) = 0.000873\n",
      "For x = -3.400000, gaussian(x) = 0.001232\n",
      "For x = -3.300000, gaussian(x) = 0.001723\n",
      "For x = -3.200000, gaussian(x) = 0.002384\n",
      "For x = -3.100000, gaussian(x) = 0.003267\n",
      "For x = -3.000000, gaussian(x) = 0.004432\n",
      "For x = -2.900000, gaussian(x) = 0.005953\n",
      "For x = -2.800000, gaussian(x) = 0.007915\n",
      "For x = -2.700000, gaussian(x) = 0.010421\n",
      "For x = -2.600000, gaussian(x) = 0.013583\n",
      "For x = -2.500000, gaussian(x) = 0.017528\n",
      "For x = -2.400000, gaussian(x) = 0.022395\n",
      "For x = -2.300000, gaussian(x) = 0.028327\n",
      "For x = -2.200000, gaussian(x) = 0.035475\n",
      "For x = -2.100000, gaussian(x) = 0.043984\n",
      "For x = -2.000000, gaussian(x) = 0.053991\n",
      "For x = -1.900000, gaussian(x) = 0.065616\n",
      "For x = -1.800000, gaussian(x) = 0.078950\n",
      "For x = -1.700000, gaussian(x) = 0.094049\n",
      "For x = -1.600000, gaussian(x) = 0.110921\n",
      "For x = -1.500000, gaussian(x) = 0.129518\n",
      "For x = -1.400000, gaussian(x) = 0.149727\n",
      "For x = -1.300000, gaussian(x) = 0.171369\n",
      "For x = -1.200000, gaussian(x) = 0.194186\n",
      "For x = -1.100000, gaussian(x) = 0.217852\n",
      "For x = -1.000000, gaussian(x) = 0.241971\n",
      "For x = -0.900000, gaussian(x) = 0.266085\n",
      "For x = -0.800000, gaussian(x) = 0.289692\n",
      "For x = -0.700000, gaussian(x) = 0.312254\n",
      "For x = -0.600000, gaussian(x) = 0.333225\n",
      "For x = -0.500000, gaussian(x) = 0.352065\n",
      "For x = -0.400000, gaussian(x) = 0.368270\n",
      "For x = -0.300000, gaussian(x) = 0.381388\n",
      "For x = -0.200000, gaussian(x) = 0.391043\n",
      "For x = -0.100000, gaussian(x) = 0.396953\n",
      "For x = -0.000000, gaussian(x) = 0.398942\n",
      "For x = 0.100000, gaussian(x) = 0.396953\n",
      "For x = 0.200000, gaussian(x) = 0.391043\n",
      "For x = 0.300000, gaussian(x) = 0.381388\n",
      "For x = 0.400000, gaussian(x) = 0.368270\n",
      "For x = 0.500000, gaussian(x) = 0.352065\n",
      "For x = 0.600000, gaussian(x) = 0.333225\n",
      "For x = 0.700000, gaussian(x) = 0.312254\n",
      "For x = 0.800000, gaussian(x) = 0.289692\n",
      "For x = 0.900000, gaussian(x) = 0.266085\n",
      "For x = 1.000000, gaussian(x) = 0.241971\n",
      "For x = 1.100000, gaussian(x) = 0.217852\n",
      "For x = 1.200000, gaussian(x) = 0.194186\n",
      "For x = 1.300000, gaussian(x) = 0.171369\n",
      "For x = 1.400000, gaussian(x) = 0.149727\n",
      "For x = 1.500000, gaussian(x) = 0.129518\n",
      "For x = 1.600000, gaussian(x) = 0.110921\n",
      "For x = 1.700000, gaussian(x) = 0.094049\n",
      "For x = 1.800000, gaussian(x) = 0.078950\n",
      "For x = 1.900000, gaussian(x) = 0.065616\n",
      "For x = 2.000000, gaussian(x) = 0.053991\n",
      "For x = 2.100000, gaussian(x) = 0.043984\n",
      "For x = 2.200000, gaussian(x) = 0.035475\n",
      "For x = 2.300000, gaussian(x) = 0.028327\n",
      "For x = 2.400000, gaussian(x) = 0.022395\n",
      "For x = 2.500000, gaussian(x) = 0.017528\n",
      "For x = 2.600000, gaussian(x) = 0.013583\n",
      "For x = 2.700000, gaussian(x) = 0.010421\n",
      "For x = 2.800000, gaussian(x) = 0.007915\n",
      "For x = 2.900000, gaussian(x) = 0.005953\n",
      "For x = 3.000000, gaussian(x) = 0.004432\n",
      "For x = 3.100000, gaussian(x) = 0.003267\n",
      "For x = 3.200000, gaussian(x) = 0.002384\n",
      "For x = 3.300000, gaussian(x) = 0.001723\n",
      "For x = 3.400000, gaussian(x) = 0.001232\n",
      "For x = 3.500000, gaussian(x) = 0.000873\n",
      "For x = 3.600000, gaussian(x) = 0.000612\n",
      "For x = 3.700000, gaussian(x) = 0.000425\n",
      "For x = 3.800000, gaussian(x) = 0.000292\n",
      "For x = 3.900000, gaussian(x) = 0.000199\n",
      "For x = 4.000000, gaussian(x) = 0.000134\n",
      "For x = 4.100000, gaussian(x) = 0.000089\n",
      "For x = 4.200000, gaussian(x) = 0.000059\n",
      "For x = 4.300000, gaussian(x) = 0.000039\n",
      "For x = 4.400000, gaussian(x) = 0.000025\n",
      "For x = 4.500000, gaussian(x) = 0.000016\n",
      "For x = 4.600000, gaussian(x) = 0.000010\n",
      "For x = 4.700000, gaussian(x) = 0.000006\n",
      "For x = 4.800000, gaussian(x) = 0.000004\n",
      "For x = 4.900000, gaussian(x) = 0.000002\n",
      "For x = 5.000000, gaussian(x) = 0.000001\n"
     ]
    }
   ],
   "source": [
    "# Implement a Gaussian function\n",
    "\n",
    "from math import exp, pi, sqrt\n",
    "\n",
    "def gaussian(x, m = 0, s = 1):\n",
    "    # Note: 'm' is the mean, and 's' is the standard deviation.\n",
    "    coefficient = 1/(sqrt(2*pi)*s)\n",
    "    result = coefficient*exp(-0.5*(float(x - m)/s)**2) # Be careful here. x, m, and s are supplied as integers - let's cast the numerator to a float to ensure we don't encounter integer division problems.\n",
    "    return result\n",
    "\n",
    "x = -5.0\n",
    "while x <= 5.0:\n",
    "    print \"For x = %f, gaussian(x) = %f\" % (x, gaussian(x))\n",
    "    x = x + 0.1 # Increment x by a step size of 0.1."
   ]
  },
  {
   "cell_type": "markdown",
   "metadata": {},
   "source": [
    "* **Express a step function as a Python function**</br>\n",
    "The following \"step\" function is known as the Heaviside function and\n",
    "is widely used in mathematics:\n",
    "$$H(x)=\\begin{cases}0, & \\text{if $x<0$}.\\\\\\\\\n",
    "1, & \\text{if $x\\ge 0$}.\\end{cases}$$\n",
    "Write a Python function H(x) that computes H(x)."
   ]
  },
  {
   "cell_type": "code",
   "execution_count": 14,
   "metadata": {
    "collapsed": false
   },
   "outputs": [
    {
     "name": "stdout",
     "output_type": "stream",
     "text": [
      "1\n"
     ]
    }
   ],
   "source": [
    "# Express a step function as a Python function\n",
    "\n",
    "def step(x):\n",
    "    if(x < 0):\n",
    "        H = 0\n",
    "    else: # Otherwise x must be greater than or equal to zero\n",
    "        H = 1\n",
    "    return H # Return the result\n",
    "\n",
    "x = 0.5\n",
    "print step(x) # The value that is returned by the function will be printed out here. For the case of x = 0.5, this should print '1'."
   ]
  },
  {
   "cell_type": "markdown",
   "metadata": {},
   "source": [
    "* **Write a function for numerical differentiation**</br>\n",
    "The formula\n",
    "$$f^\\prime(x) \\approx \\frac{f(x+h) - f(x-h)}{2h}$$\n",
    "can be used to find an approximate derivative of a mathematical function f(x) if h is small. Write a function *diff*( *f*, *x*, *h*=1E-6) that returns the approximation of the derivative of a mathematical function represented by a Python function f(x).</br></br>\n",
    "Apply the above formula to differentiate $f(x) = e^x$ at x = 0, $f(x) = e^{−2x}$ at\n",
    "x = 0, $f(x) = \\cos(x)$ at x = 2$\\pi$ , and $f(x) = \\ln(x)$ at x = 1. Use h = 0.01. In each case, write out the error, i.e., the difference between the exact derivative and the result of the formula above.\n"
   ]
  },
  {
   "cell_type": "code",
   "execution_count": 15,
   "metadata": {
    "collapsed": false
   },
   "outputs": [
    {
     "name": "stdout",
     "output_type": "stream",
     "text": [
      "The approximate derivative of exp(x) at x = 0 is: 1.000017. The error is 0.000017.\n",
      "The approximate derivative of exp(-2*x) at x = 0 is: -2.000133. The error is 0.000133.\n",
      "The approximate derivative of cos(x) at x = 2*pi is: 0.000000. The error is 0.000000.\n",
      "The approximate derivative of ln(x) at x = 0 is: 1.000033. The error is 0.000033.\n"
     ]
    }
   ],
   "source": [
    "# Write a function for numerical differentiation\n",
    "\n",
    "from math import exp, cos, log, pi\n",
    "\n",
    "def diff(f, x, h = 1E-6):\n",
    "    numerator = f(x + h) - f(x - h)\n",
    "    derivative = numerator/(2.0*h)\n",
    "    return derivative\n",
    "   \n",
    "h = 0.01 # The step size\n",
    "\n",
    "x = 0\n",
    "f = exp\n",
    "derivative = diff(f, x, h)\n",
    "# The 'abs' function returns the absolute value.\n",
    "print \"The approximate derivative of exp(x) at x = 0 is: %f. The error is %f.\" \\\n",
    "        %(derivative, abs(derivative - 1))\n",
    "\n",
    "x = 0\n",
    "# Here it is not possible to simply pass in the math module's exp function,\n",
    "# so we need to define our own function instead.\n",
    "def g(x):\n",
    "    return exp(-2*x)\n",
    "f = g\n",
    "derivative = diff(f, x, h)\n",
    "print \"The approximate derivative of exp(-2*x) at x = 0 is: %f. The error is %f.\" \\\n",
    "        %(derivative, abs(derivative - (-2.0)))\n",
    "\n",
    "x = 2*pi\n",
    "f = cos\n",
    "derivative = diff(f, x, h)\n",
    "print \"The approximate derivative of cos(x) at x = 2*pi is: %f. The error is %f.\" \\\n",
    "        %(derivative, abs(derivative - 0))\n",
    "\n",
    "x = 1\n",
    "f = log # By default, log(x) is the natural log (i.e. the log to the base 'e')\n",
    "derivative = diff(f, x, h)\n",
    "print \"The approximate derivative of ln(x) at x = 0 is: %f. The error is %f.\" \\\n",
    "        %(derivative, abs(derivative - 1))\n"
   ]
  },
  {
   "cell_type": "code",
   "execution_count": null,
   "metadata": {
    "collapsed": false
   },
   "outputs": [],
   "source": []
  }
 ],
 "metadata": {
  "kernelspec": {
   "display_name": "Python 2",
   "language": "python",
   "name": "python2"
  },
  "language_info": {
   "codemirror_mode": {
    "name": "ipython",
    "version": 2
   },
   "file_extension": ".py",
   "mimetype": "text/x-python",
   "name": "python",
   "nbconvert_exporter": "python",
   "pygments_lexer": "ipython2",
   "version": "2.7.11"
  }
 },
 "nbformat": 4,
 "nbformat_minor": 0
}
