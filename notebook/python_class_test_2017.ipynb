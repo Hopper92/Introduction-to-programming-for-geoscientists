{
 "cells": [
  {
   "cell_type": "markdown",
   "metadata": {},
   "source": [
    "# 2.18 Programming for Geoscientists class test 2017"
   ]
  },
  {
   "cell_type": "markdown",
   "metadata": {},
   "source": [
    "# Test instructions\n",
    "\n",
    "* This test contains **3** questions each of which should be answered.\n",
    "* Write your program in a Python cell just under each question.\n",
    "* You can write an explanation of your solution as comments in your code.\n",
    "* In each case your solution program must fulfil all of the instructions - please check the instructions carefully and double check that your program fulfils all of the given instructions.\n",
    "* Save your work regularly.\n",
    "* At the end of the test you should email your notebook document (i.e. this document) to [Gerard J. Gorman](http://www.imperial.ac.uk/people/g.gorman) at g.gorman@imperial.ac.uk"
   ]
  },
  {
   "cell_type": "markdown",
   "metadata": {},
   "source": [
    "**1.** The following cells contain at least one programming bug each. For each cell add a comment to identify and explain the bug, and correct the program."
   ]
  },
  {
   "cell_type": "code",
   "execution_count": null,
   "metadata": {
    "collapsed": true
   },
   "outputs": [],
   "source": [
    "# Q. 1.1\n",
    "\n",
    "v = sqrt(2)"
   ]
  },
  {
   "cell_type": "code",
   "execution_count": null,
   "metadata": {
    "collapsed": true
   },
   "outputs": [],
   "source": [
    "# Q. 1.2\n",
    "\n",
    "v = [1, 4, 9, 16]\n",
    "v_squared = v*v"
   ]
  },
  {
   "cell_type": "code",
   "execution_count": null,
   "metadata": {
    "collapsed": true
   },
   "outputs": [],
   "source": [
    "# Q. 1.3\n",
    "\n",
    "v = [1, 4, 9, 16]\n",
    "print(\"The last value in the list is %d\"%v[4])"
   ]
  },
  {
   "cell_type": "code",
   "execution_count": null,
   "metadata": {
    "collapsed": true
   },
   "outputs": [],
   "source": [
    "# Q. 1.4\n",
    "\n",
    "if True\n",
    "    print(\"This is always true\")"
   ]
  },
  {
   "cell_type": "code",
   "execution_count": null,
   "metadata": {
    "collapsed": true
   },
   "outputs": [],
   "source": [
    "# Q. 1.5\n",
    "\n",
    "# Print every even number up to 10\n",
    "n = 0\n",
    "while True:\n",
    "    if n%2==0:\n",
    "        print(n)\n",
    "        n+=1\n",
    "    if n==10:\n",
    "        break"
   ]
  },
  {
   "cell_type": "markdown",
   "metadata": {},
   "source": [
    "**2.** A path is defined by the following list of *x, y* coordinate positions\n",
    "```\n",
    "[[0, 0], [1, 0], [1, 1], [2, 1], [2, 2], [3, 2], [3, 3], [4, 3], [4, 4], [5, 4], [5, 5]]\n",
    "```\n",
    "* Write a function that takes two positions as input and returns the distance between them. The distance between two points is defined as $$\\sqrt((x_i - x_{i-1})^2+(y_i - y_{i-1})^2).$$\n",
    "* Write a second function that takes as input the a path represented as above as a list of *x, y* coordinates and returns the total length of the path.\n",
    "* Make a line plot of the path. Add x and y labels to your plot."
   ]
  },
  {
   "cell_type": "code",
   "execution_count": null,
   "metadata": {
    "collapsed": true
   },
   "outputs": [],
   "source": []
  },
  {
   "cell_type": "markdown",
   "metadata": {},
   "source": [
    "**3.** The data file [borehole.txt](data/borehole.txt) (all of the data files are stored in the sub-folder *data/* of this notebook library) contains measurements taken from a well in the North Sea.\n",
    "\n",
    "* Read in the depth and porewater pressure from this data file into a numpy array. Notice that some of the data is missing so you should only store depth values that have a porewater pressure measurement.\n",
    "* Plot the porewater pressure against depth. Clearly label each axis including units.\n",
    "* Adapt your program to also read in Sleeve Friction, and plot this on the same graph as porewater pressure. Add a legend so that the two graphs can be clearly identified."
   ]
  },
  {
   "cell_type": "code",
   "execution_count": null,
   "metadata": {
    "collapsed": true
   },
   "outputs": [],
   "source": []
  }
 ],
 "metadata": {
  "kernelspec": {
   "display_name": "Python 3",
   "language": "python",
   "name": "python3"
  },
  "language_info": {
   "codemirror_mode": {
    "name": "ipython",
    "version": 3
   },
   "file_extension": ".py",
   "mimetype": "text/x-python",
   "name": "python",
   "nbconvert_exporter": "python",
   "pygments_lexer": "ipython3",
   "version": "3.5.4"
  }
 },
 "nbformat": 4,
 "nbformat_minor": 1
}
