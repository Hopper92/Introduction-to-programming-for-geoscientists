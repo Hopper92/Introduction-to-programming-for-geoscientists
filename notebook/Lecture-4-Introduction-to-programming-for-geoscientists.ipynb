{
 "cells": [
  {
   "cell_type": "markdown",
   "metadata": {
    "slideshow": {
     "slide_type": "slide"
    }
   },
   "source": [
    "# Introduction to programming for Geoscientists\n",
    "### [Gerard Gorman](http://www.imperial.ac.uk/people/g.gorman)\n",
    "\n",
    "# Lecture 4: Input data and error handling"
   ]
  },
  {
   "cell_type": "markdown",
   "metadata": {
    "slideshow": {
     "slide_type": "slide"
    }
   },
   "source": [
    "Learning objectives:\n",
    "\n",
    "* You will know how to implement basic interactive programs that take user input.\n",
    "* Be able to catch run-time errors and handle them gracefully rather than the program simply failing."
   ]
  },
  {
   "cell_type": "markdown",
   "metadata": {
    "slideshow": {
     "slide_type": "slide"
    }
   },
   "source": [
    "## Hardcoded input\n",
    "\n",
    "Up to now you have only **hardcoded** input for your programs, i.e."
   ]
  },
  {
   "cell_type": "code",
   "execution_count": 1,
   "metadata": {
    "collapsed": true,
    "slideshow": {
     "slide_type": "fragment"
    }
   },
   "outputs": [],
   "source": [
    "v0 = 5    # Hardcoded value\n",
    "g = 9.81  # Hardcoded value\n",
    "t = 0.6   # Hardcoded value\n",
    "y = v0*t - 0.5*g*t**2"
   ]
  },
  {
   "cell_type": "markdown",
   "metadata": {
    "slideshow": {
     "slide_type": "fragment"
    }
   },
   "source": [
    "While hardcoding values for variables such as $g$ might be fine if you are not planning to throw the ball on another planet, the initial velocity and time are values that a user would like to specify without having to edit the code (which would be both tedious and error-prone)."
   ]
  },
  {
   "cell_type": "markdown",
   "metadata": {
    "slideshow": {
     "slide_type": "slide"
    }
   },
   "source": [
    "## Interactive user input\n",
    "\n",
    "There are a wide variety of ways of getting input from the user. In this case we are going to we are going to focus using the package ipywidgets to get user input via a simple text box. Let's recycle our temperature conversion example to illustrate how we use it; this time taking the Celsius value from the user input:"
   ]
  },
  {
   "cell_type": "code",
   "execution_count": 3,
   "metadata": {
    "slideshow": {
     "slide_type": "fragment"
    }
   },
   "outputs": [
    {
     "data": {
      "application/vnd.jupyter.widget-view+json": {
       "model_id": "4f96d3240b8e40eb8c47f4ca3c1ab5b7",
       "version_major": 2,
       "version_minor": 0
      },
      "text/plain": [
       "A Jupyter Widget"
      ]
     },
     "metadata": {},
     "output_type": "display_data"
    },
    {
     "name": "stdout",
     "output_type": "stream",
     "text": [
      "0.0 degrees Celsius is  32.0 degrees Fahrenheit\n"
     ]
    }
   ],
   "source": [
    "from ipywidgets import widgets\n",
    "from IPython.display import display\n",
    "\n",
    "def widget_c2f(sender):\n",
    "    C = sender.value # Read the text value; note this is a string\n",
    "    C = float(C)     # Convert this string into a float\n",
    "    print(C, \"degrees Celsius is \", (9/5)*C + 32, \"degrees Fahrenheit\")\n",
    "\n",
    "temp = widgets.Text()\n",
    "temp.on_submit(widget_c2f)\n",
    "display(temp)"
   ]
  },
  {
   "cell_type": "markdown",
   "metadata": {
    "slideshow": {
     "slide_type": "subslide"
    }
   },
   "source": [
    "Another simple example: Print the n first even numbers."
   ]
  },
  {
   "cell_type": "code",
   "execution_count": 5,
   "metadata": {
    "slideshow": {
     "slide_type": "fragment"
    }
   },
   "outputs": [
    {
     "data": {
      "application/vnd.jupyter.widget-view+json": {
       "model_id": "c5210b45eefb4985a3245cce1c2a2255",
       "version_major": 2,
       "version_minor": 0
      },
      "text/plain": [
       "A Jupyter Widget"
      ]
     },
     "metadata": {},
     "output_type": "display_data"
    },
    {
     "name": "stdout",
     "output_type": "stream",
     "text": [
      "2\n",
      "4\n",
      "6\n",
      "8\n",
      "10\n"
     ]
    }
   ],
   "source": [
    "def widget_firstn(sender):\n",
    "    n = sender.value # Read the text value; note this is a string.\n",
    "    n = int(n)       # Convert this string into an integer.\n",
    "    for i in range(2, 2*n+1, 2):\n",
    "        print(i)\n",
    "\n",
    "firstn = widgets.Text()\n",
    "firstn.on_submit(widget_firstn)\n",
    "display(firstn)"
   ]
  },
  {
   "cell_type": "markdown",
   "metadata": {
    "slideshow": {
     "slide_type": "slide"
    }
   },
   "source": [
    "# <span style=\"color:blue\">Exercise 4.1: Make an interactive program</span>\n",
    "Make a program that:\n",
    "\n",
    " * asks the user for a temperature in Fahrenheit degrees and reads the number;\n",
    " * computes the corresponding temperature in Celsius degrees;\n",
    " * prints out the temperature in the Celsius scale."
   ]
  },
  {
   "cell_type": "code",
   "execution_count": null,
   "metadata": {
    "collapsed": true,
    "slideshow": {
     "slide_type": "subslide"
    }
   },
   "outputs": [],
   "source": []
  },
  {
   "cell_type": "markdown",
   "metadata": {
    "slideshow": {
     "slide_type": "slide"
    }
   },
   "source": [
    "## <span style=\"color:blue\">Exercise 4.2: Prompt the user for input to a formula</span>\n",
    "Consider the simplest program for evaluting the formula $y(t) = v_0 t − 0.5gt^2$:"
   ]
  },
  {
   "cell_type": "code",
   "execution_count": 5,
   "metadata": {
    "slideshow": {
     "slide_type": "fragment"
    }
   },
   "outputs": [
    {
     "name": "stdout",
     "output_type": "stream",
     "text": [
      "0.034199999999999786\n"
     ]
    }
   ],
   "source": [
    "v0 = 3; g = 9.81; t = 0.6\n",
    "y = v0*t - 0.5*g*t**2\n",
    "print(y)"
   ]
  },
  {
   "cell_type": "markdown",
   "metadata": {
    "slideshow": {
     "slide_type": "fragment"
    }
   },
   "source": [
    "Modify this code so that the program takes as user input *t* and *v0*, and then computes the corresponding distance traveled, $y$. Note, you can put multiple values into the same text box and then use the string method *split* to break the string value into a list.\n",
    "```python\n",
    "t, v0 = value.split(\",\") # assuming ',' as the delimiter\n",
    "```"
   ]
  },
  {
   "cell_type": "markdown",
   "metadata": {
    "slideshow": {
     "slide_type": "slide"
    }
   },
   "source": [
    "## <span style=\"color:blue\">Exercise 4.3</span>\n",
    "\n",
    "At this point (other than some plotting details that you will meet later) you know enough to write the classic game [Battleship](https://en.wikipedia.org/wiki/Battleship_%28game%29). Rather than start from scratch I have put an example below. Organise yourselves into pairs and:\n",
    "\n",
    "* Play a couple of games.\n",
    "* Write a cheat into the code to reveal where the ship is hiding.\n",
    "* Change the code so that it is on a 13x13 grid.\n",
    "* Rather than having just one ship that is one square in size, make it some random length between 1-6."
   ]
  },
  {
   "cell_type": "code",
   "execution_count": 7,
   "metadata": {
    "slideshow": {
     "slide_type": "slide"
    }
   },
   "outputs": [
    {
     "data": {
      "application/javascript": [
       "/* Put everything inside the global mpl namespace */\n",
       "window.mpl = {};\n",
       "\n",
       "\n",
       "mpl.get_websocket_type = function() {\n",
       "    if (typeof(WebSocket) !== 'undefined') {\n",
       "        return WebSocket;\n",
       "    } else if (typeof(MozWebSocket) !== 'undefined') {\n",
       "        return MozWebSocket;\n",
       "    } else {\n",
       "        alert('Your browser does not have WebSocket support.' +\n",
       "              'Please try Chrome, Safari or Firefox ≥ 6. ' +\n",
       "              'Firefox 4 and 5 are also supported but you ' +\n",
       "              'have to enable WebSockets in about:config.');\n",
       "    };\n",
       "}\n",
       "\n",
       "mpl.figure = function(figure_id, websocket, ondownload, parent_element) {\n",
       "    this.id = figure_id;\n",
       "\n",
       "    this.ws = websocket;\n",
       "\n",
       "    this.supports_binary = (this.ws.binaryType != undefined);\n",
       "\n",
       "    if (!this.supports_binary) {\n",
       "        var warnings = document.getElementById(\"mpl-warnings\");\n",
       "        if (warnings) {\n",
       "            warnings.style.display = 'block';\n",
       "            warnings.textContent = (\n",
       "                \"This browser does not support binary websocket messages. \" +\n",
       "                    \"Performance may be slow.\");\n",
       "        }\n",
       "    }\n",
       "\n",
       "    this.imageObj = new Image();\n",
       "\n",
       "    this.context = undefined;\n",
       "    this.message = undefined;\n",
       "    this.canvas = undefined;\n",
       "    this.rubberband_canvas = undefined;\n",
       "    this.rubberband_context = undefined;\n",
       "    this.format_dropdown = undefined;\n",
       "\n",
       "    this.image_mode = 'full';\n",
       "\n",
       "    this.root = $('<div/>');\n",
       "    this._root_extra_style(this.root)\n",
       "    this.root.attr('style', 'display: inline-block');\n",
       "\n",
       "    $(parent_element).append(this.root);\n",
       "\n",
       "    this._init_header(this);\n",
       "    this._init_canvas(this);\n",
       "    this._init_toolbar(this);\n",
       "\n",
       "    var fig = this;\n",
       "\n",
       "    this.waiting = false;\n",
       "\n",
       "    this.ws.onopen =  function () {\n",
       "            fig.send_message(\"supports_binary\", {value: fig.supports_binary});\n",
       "            fig.send_message(\"send_image_mode\", {});\n",
       "            if (mpl.ratio != 1) {\n",
       "                fig.send_message(\"set_dpi_ratio\", {'dpi_ratio': mpl.ratio});\n",
       "            }\n",
       "            fig.send_message(\"refresh\", {});\n",
       "        }\n",
       "\n",
       "    this.imageObj.onload = function() {\n",
       "            if (fig.image_mode == 'full') {\n",
       "                // Full images could contain transparency (where diff images\n",
       "                // almost always do), so we need to clear the canvas so that\n",
       "                // there is no ghosting.\n",
       "                fig.context.clearRect(0, 0, fig.canvas.width, fig.canvas.height);\n",
       "            }\n",
       "            fig.context.drawImage(fig.imageObj, 0, 0);\n",
       "        };\n",
       "\n",
       "    this.imageObj.onunload = function() {\n",
       "        this.ws.close();\n",
       "    }\n",
       "\n",
       "    this.ws.onmessage = this._make_on_message_function(this);\n",
       "\n",
       "    this.ondownload = ondownload;\n",
       "}\n",
       "\n",
       "mpl.figure.prototype._init_header = function() {\n",
       "    var titlebar = $(\n",
       "        '<div class=\"ui-dialog-titlebar ui-widget-header ui-corner-all ' +\n",
       "        'ui-helper-clearfix\"/>');\n",
       "    var titletext = $(\n",
       "        '<div class=\"ui-dialog-title\" style=\"width: 100%; ' +\n",
       "        'text-align: center; padding: 3px;\"/>');\n",
       "    titlebar.append(titletext)\n",
       "    this.root.append(titlebar);\n",
       "    this.header = titletext[0];\n",
       "}\n",
       "\n",
       "\n",
       "\n",
       "mpl.figure.prototype._canvas_extra_style = function(canvas_div) {\n",
       "\n",
       "}\n",
       "\n",
       "\n",
       "mpl.figure.prototype._root_extra_style = function(canvas_div) {\n",
       "\n",
       "}\n",
       "\n",
       "mpl.figure.prototype._init_canvas = function() {\n",
       "    var fig = this;\n",
       "\n",
       "    var canvas_div = $('<div/>');\n",
       "\n",
       "    canvas_div.attr('style', 'position: relative; clear: both; outline: 0');\n",
       "\n",
       "    function canvas_keyboard_event(event) {\n",
       "        return fig.key_event(event, event['data']);\n",
       "    }\n",
       "\n",
       "    canvas_div.keydown('key_press', canvas_keyboard_event);\n",
       "    canvas_div.keyup('key_release', canvas_keyboard_event);\n",
       "    this.canvas_div = canvas_div\n",
       "    this._canvas_extra_style(canvas_div)\n",
       "    this.root.append(canvas_div);\n",
       "\n",
       "    var canvas = $('<canvas/>');\n",
       "    canvas.addClass('mpl-canvas');\n",
       "    canvas.attr('style', \"left: 0; top: 0; z-index: 0; outline: 0\")\n",
       "\n",
       "    this.canvas = canvas[0];\n",
       "    this.context = canvas[0].getContext(\"2d\");\n",
       "\n",
       "    var backingStore = this.context.backingStorePixelRatio ||\n",
       "\tthis.context.webkitBackingStorePixelRatio ||\n",
       "\tthis.context.mozBackingStorePixelRatio ||\n",
       "\tthis.context.msBackingStorePixelRatio ||\n",
       "\tthis.context.oBackingStorePixelRatio ||\n",
       "\tthis.context.backingStorePixelRatio || 1;\n",
       "\n",
       "    mpl.ratio = (window.devicePixelRatio || 1) / backingStore;\n",
       "\n",
       "    var rubberband = $('<canvas/>');\n",
       "    rubberband.attr('style', \"position: absolute; left: 0; top: 0; z-index: 1;\")\n",
       "\n",
       "    var pass_mouse_events = true;\n",
       "\n",
       "    canvas_div.resizable({\n",
       "        start: function(event, ui) {\n",
       "            pass_mouse_events = false;\n",
       "        },\n",
       "        resize: function(event, ui) {\n",
       "            fig.request_resize(ui.size.width, ui.size.height);\n",
       "        },\n",
       "        stop: function(event, ui) {\n",
       "            pass_mouse_events = true;\n",
       "            fig.request_resize(ui.size.width, ui.size.height);\n",
       "        },\n",
       "    });\n",
       "\n",
       "    function mouse_event_fn(event) {\n",
       "        if (pass_mouse_events)\n",
       "            return fig.mouse_event(event, event['data']);\n",
       "    }\n",
       "\n",
       "    rubberband.mousedown('button_press', mouse_event_fn);\n",
       "    rubberband.mouseup('button_release', mouse_event_fn);\n",
       "    // Throttle sequential mouse events to 1 every 20ms.\n",
       "    rubberband.mousemove('motion_notify', mouse_event_fn);\n",
       "\n",
       "    rubberband.mouseenter('figure_enter', mouse_event_fn);\n",
       "    rubberband.mouseleave('figure_leave', mouse_event_fn);\n",
       "\n",
       "    canvas_div.on(\"wheel\", function (event) {\n",
       "        event = event.originalEvent;\n",
       "        event['data'] = 'scroll'\n",
       "        if (event.deltaY < 0) {\n",
       "            event.step = 1;\n",
       "        } else {\n",
       "            event.step = -1;\n",
       "        }\n",
       "        mouse_event_fn(event);\n",
       "    });\n",
       "\n",
       "    canvas_div.append(canvas);\n",
       "    canvas_div.append(rubberband);\n",
       "\n",
       "    this.rubberband = rubberband;\n",
       "    this.rubberband_canvas = rubberband[0];\n",
       "    this.rubberband_context = rubberband[0].getContext(\"2d\");\n",
       "    this.rubberband_context.strokeStyle = \"#000000\";\n",
       "\n",
       "    this._resize_canvas = function(width, height) {\n",
       "        // Keep the size of the canvas, canvas container, and rubber band\n",
       "        // canvas in synch.\n",
       "        canvas_div.css('width', width)\n",
       "        canvas_div.css('height', height)\n",
       "\n",
       "        canvas.attr('width', width * mpl.ratio);\n",
       "        canvas.attr('height', height * mpl.ratio);\n",
       "        canvas.attr('style', 'width: ' + width + 'px; height: ' + height + 'px;');\n",
       "\n",
       "        rubberband.attr('width', width);\n",
       "        rubberband.attr('height', height);\n",
       "    }\n",
       "\n",
       "    // Set the figure to an initial 600x600px, this will subsequently be updated\n",
       "    // upon first draw.\n",
       "    this._resize_canvas(600, 600);\n",
       "\n",
       "    // Disable right mouse context menu.\n",
       "    $(this.rubberband_canvas).bind(\"contextmenu\",function(e){\n",
       "        return false;\n",
       "    });\n",
       "\n",
       "    function set_focus () {\n",
       "        canvas.focus();\n",
       "        canvas_div.focus();\n",
       "    }\n",
       "\n",
       "    window.setTimeout(set_focus, 100);\n",
       "}\n",
       "\n",
       "mpl.figure.prototype._init_toolbar = function() {\n",
       "    var fig = this;\n",
       "\n",
       "    var nav_element = $('<div/>')\n",
       "    nav_element.attr('style', 'width: 100%');\n",
       "    this.root.append(nav_element);\n",
       "\n",
       "    // Define a callback function for later on.\n",
       "    function toolbar_event(event) {\n",
       "        return fig.toolbar_button_onclick(event['data']);\n",
       "    }\n",
       "    function toolbar_mouse_event(event) {\n",
       "        return fig.toolbar_button_onmouseover(event['data']);\n",
       "    }\n",
       "\n",
       "    for(var toolbar_ind in mpl.toolbar_items) {\n",
       "        var name = mpl.toolbar_items[toolbar_ind][0];\n",
       "        var tooltip = mpl.toolbar_items[toolbar_ind][1];\n",
       "        var image = mpl.toolbar_items[toolbar_ind][2];\n",
       "        var method_name = mpl.toolbar_items[toolbar_ind][3];\n",
       "\n",
       "        if (!name) {\n",
       "            // put a spacer in here.\n",
       "            continue;\n",
       "        }\n",
       "        var button = $('<button/>');\n",
       "        button.addClass('ui-button ui-widget ui-state-default ui-corner-all ' +\n",
       "                        'ui-button-icon-only');\n",
       "        button.attr('role', 'button');\n",
       "        button.attr('aria-disabled', 'false');\n",
       "        button.click(method_name, toolbar_event);\n",
       "        button.mouseover(tooltip, toolbar_mouse_event);\n",
       "\n",
       "        var icon_img = $('<span/>');\n",
       "        icon_img.addClass('ui-button-icon-primary ui-icon');\n",
       "        icon_img.addClass(image);\n",
       "        icon_img.addClass('ui-corner-all');\n",
       "\n",
       "        var tooltip_span = $('<span/>');\n",
       "        tooltip_span.addClass('ui-button-text');\n",
       "        tooltip_span.html(tooltip);\n",
       "\n",
       "        button.append(icon_img);\n",
       "        button.append(tooltip_span);\n",
       "\n",
       "        nav_element.append(button);\n",
       "    }\n",
       "\n",
       "    var fmt_picker_span = $('<span/>');\n",
       "\n",
       "    var fmt_picker = $('<select/>');\n",
       "    fmt_picker.addClass('mpl-toolbar-option ui-widget ui-widget-content');\n",
       "    fmt_picker_span.append(fmt_picker);\n",
       "    nav_element.append(fmt_picker_span);\n",
       "    this.format_dropdown = fmt_picker[0];\n",
       "\n",
       "    for (var ind in mpl.extensions) {\n",
       "        var fmt = mpl.extensions[ind];\n",
       "        var option = $(\n",
       "            '<option/>', {selected: fmt === mpl.default_extension}).html(fmt);\n",
       "        fmt_picker.append(option)\n",
       "    }\n",
       "\n",
       "    // Add hover states to the ui-buttons\n",
       "    $( \".ui-button\" ).hover(\n",
       "        function() { $(this).addClass(\"ui-state-hover\");},\n",
       "        function() { $(this).removeClass(\"ui-state-hover\");}\n",
       "    );\n",
       "\n",
       "    var status_bar = $('<span class=\"mpl-message\"/>');\n",
       "    nav_element.append(status_bar);\n",
       "    this.message = status_bar[0];\n",
       "}\n",
       "\n",
       "mpl.figure.prototype.request_resize = function(x_pixels, y_pixels) {\n",
       "    // Request matplotlib to resize the figure. Matplotlib will then trigger a resize in the client,\n",
       "    // which will in turn request a refresh of the image.\n",
       "    this.send_message('resize', {'width': x_pixels, 'height': y_pixels});\n",
       "}\n",
       "\n",
       "mpl.figure.prototype.send_message = function(type, properties) {\n",
       "    properties['type'] = type;\n",
       "    properties['figure_id'] = this.id;\n",
       "    this.ws.send(JSON.stringify(properties));\n",
       "}\n",
       "\n",
       "mpl.figure.prototype.send_draw_message = function() {\n",
       "    if (!this.waiting) {\n",
       "        this.waiting = true;\n",
       "        this.ws.send(JSON.stringify({type: \"draw\", figure_id: this.id}));\n",
       "    }\n",
       "}\n",
       "\n",
       "\n",
       "mpl.figure.prototype.handle_save = function(fig, msg) {\n",
       "    var format_dropdown = fig.format_dropdown;\n",
       "    var format = format_dropdown.options[format_dropdown.selectedIndex].value;\n",
       "    fig.ondownload(fig, format);\n",
       "}\n",
       "\n",
       "\n",
       "mpl.figure.prototype.handle_resize = function(fig, msg) {\n",
       "    var size = msg['size'];\n",
       "    if (size[0] != fig.canvas.width || size[1] != fig.canvas.height) {\n",
       "        fig._resize_canvas(size[0], size[1]);\n",
       "        fig.send_message(\"refresh\", {});\n",
       "    };\n",
       "}\n",
       "\n",
       "mpl.figure.prototype.handle_rubberband = function(fig, msg) {\n",
       "    var x0 = msg['x0'] / mpl.ratio;\n",
       "    var y0 = (fig.canvas.height - msg['y0']) / mpl.ratio;\n",
       "    var x1 = msg['x1'] / mpl.ratio;\n",
       "    var y1 = (fig.canvas.height - msg['y1']) / mpl.ratio;\n",
       "    x0 = Math.floor(x0) + 0.5;\n",
       "    y0 = Math.floor(y0) + 0.5;\n",
       "    x1 = Math.floor(x1) + 0.5;\n",
       "    y1 = Math.floor(y1) + 0.5;\n",
       "    var min_x = Math.min(x0, x1);\n",
       "    var min_y = Math.min(y0, y1);\n",
       "    var width = Math.abs(x1 - x0);\n",
       "    var height = Math.abs(y1 - y0);\n",
       "\n",
       "    fig.rubberband_context.clearRect(\n",
       "        0, 0, fig.canvas.width, fig.canvas.height);\n",
       "\n",
       "    fig.rubberband_context.strokeRect(min_x, min_y, width, height);\n",
       "}\n",
       "\n",
       "mpl.figure.prototype.handle_figure_label = function(fig, msg) {\n",
       "    // Updates the figure title.\n",
       "    fig.header.textContent = msg['label'];\n",
       "}\n",
       "\n",
       "mpl.figure.prototype.handle_cursor = function(fig, msg) {\n",
       "    var cursor = msg['cursor'];\n",
       "    switch(cursor)\n",
       "    {\n",
       "    case 0:\n",
       "        cursor = 'pointer';\n",
       "        break;\n",
       "    case 1:\n",
       "        cursor = 'default';\n",
       "        break;\n",
       "    case 2:\n",
       "        cursor = 'crosshair';\n",
       "        break;\n",
       "    case 3:\n",
       "        cursor = 'move';\n",
       "        break;\n",
       "    }\n",
       "    fig.rubberband_canvas.style.cursor = cursor;\n",
       "}\n",
       "\n",
       "mpl.figure.prototype.handle_message = function(fig, msg) {\n",
       "    fig.message.textContent = msg['message'];\n",
       "}\n",
       "\n",
       "mpl.figure.prototype.handle_draw = function(fig, msg) {\n",
       "    // Request the server to send over a new figure.\n",
       "    fig.send_draw_message();\n",
       "}\n",
       "\n",
       "mpl.figure.prototype.handle_image_mode = function(fig, msg) {\n",
       "    fig.image_mode = msg['mode'];\n",
       "}\n",
       "\n",
       "mpl.figure.prototype.updated_canvas_event = function() {\n",
       "    // Called whenever the canvas gets updated.\n",
       "    this.send_message(\"ack\", {});\n",
       "}\n",
       "\n",
       "// A function to construct a web socket function for onmessage handling.\n",
       "// Called in the figure constructor.\n",
       "mpl.figure.prototype._make_on_message_function = function(fig) {\n",
       "    return function socket_on_message(evt) {\n",
       "        if (evt.data instanceof Blob) {\n",
       "            /* FIXME: We get \"Resource interpreted as Image but\n",
       "             * transferred with MIME type text/plain:\" errors on\n",
       "             * Chrome.  But how to set the MIME type?  It doesn't seem\n",
       "             * to be part of the websocket stream */\n",
       "            evt.data.type = \"image/png\";\n",
       "\n",
       "            /* Free the memory for the previous frames */\n",
       "            if (fig.imageObj.src) {\n",
       "                (window.URL || window.webkitURL).revokeObjectURL(\n",
       "                    fig.imageObj.src);\n",
       "            }\n",
       "\n",
       "            fig.imageObj.src = (window.URL || window.webkitURL).createObjectURL(\n",
       "                evt.data);\n",
       "            fig.updated_canvas_event();\n",
       "            fig.waiting = false;\n",
       "            return;\n",
       "        }\n",
       "        else if (typeof evt.data === 'string' && evt.data.slice(0, 21) == \"data:image/png;base64\") {\n",
       "            fig.imageObj.src = evt.data;\n",
       "            fig.updated_canvas_event();\n",
       "            fig.waiting = false;\n",
       "            return;\n",
       "        }\n",
       "\n",
       "        var msg = JSON.parse(evt.data);\n",
       "        var msg_type = msg['type'];\n",
       "\n",
       "        // Call the  \"handle_{type}\" callback, which takes\n",
       "        // the figure and JSON message as its only arguments.\n",
       "        try {\n",
       "            var callback = fig[\"handle_\" + msg_type];\n",
       "        } catch (e) {\n",
       "            console.log(\"No handler for the '\" + msg_type + \"' message type: \", msg);\n",
       "            return;\n",
       "        }\n",
       "\n",
       "        if (callback) {\n",
       "            try {\n",
       "                // console.log(\"Handling '\" + msg_type + \"' message: \", msg);\n",
       "                callback(fig, msg);\n",
       "            } catch (e) {\n",
       "                console.log(\"Exception inside the 'handler_\" + msg_type + \"' callback:\", e, e.stack, msg);\n",
       "            }\n",
       "        }\n",
       "    };\n",
       "}\n",
       "\n",
       "// from http://stackoverflow.com/questions/1114465/getting-mouse-location-in-canvas\n",
       "mpl.findpos = function(e) {\n",
       "    //this section is from http://www.quirksmode.org/js/events_properties.html\n",
       "    var targ;\n",
       "    if (!e)\n",
       "        e = window.event;\n",
       "    if (e.target)\n",
       "        targ = e.target;\n",
       "    else if (e.srcElement)\n",
       "        targ = e.srcElement;\n",
       "    if (targ.nodeType == 3) // defeat Safari bug\n",
       "        targ = targ.parentNode;\n",
       "\n",
       "    // jQuery normalizes the pageX and pageY\n",
       "    // pageX,Y are the mouse positions relative to the document\n",
       "    // offset() returns the position of the element relative to the document\n",
       "    var x = e.pageX - $(targ).offset().left;\n",
       "    var y = e.pageY - $(targ).offset().top;\n",
       "\n",
       "    return {\"x\": x, \"y\": y};\n",
       "};\n",
       "\n",
       "/*\n",
       " * return a copy of an object with only non-object keys\n",
       " * we need this to avoid circular references\n",
       " * http://stackoverflow.com/a/24161582/3208463\n",
       " */\n",
       "function simpleKeys (original) {\n",
       "  return Object.keys(original).reduce(function (obj, key) {\n",
       "    if (typeof original[key] !== 'object')\n",
       "        obj[key] = original[key]\n",
       "    return obj;\n",
       "  }, {});\n",
       "}\n",
       "\n",
       "mpl.figure.prototype.mouse_event = function(event, name) {\n",
       "    var canvas_pos = mpl.findpos(event)\n",
       "\n",
       "    if (name === 'button_press')\n",
       "    {\n",
       "        this.canvas.focus();\n",
       "        this.canvas_div.focus();\n",
       "    }\n",
       "\n",
       "    var x = canvas_pos.x * mpl.ratio;\n",
       "    var y = canvas_pos.y * mpl.ratio;\n",
       "\n",
       "    this.send_message(name, {x: x, y: y, button: event.button,\n",
       "                             step: event.step,\n",
       "                             guiEvent: simpleKeys(event)});\n",
       "\n",
       "    /* This prevents the web browser from automatically changing to\n",
       "     * the text insertion cursor when the button is pressed.  We want\n",
       "     * to control all of the cursor setting manually through the\n",
       "     * 'cursor' event from matplotlib */\n",
       "    event.preventDefault();\n",
       "    return false;\n",
       "}\n",
       "\n",
       "mpl.figure.prototype._key_event_extra = function(event, name) {\n",
       "    // Handle any extra behaviour associated with a key event\n",
       "}\n",
       "\n",
       "mpl.figure.prototype.key_event = function(event, name) {\n",
       "\n",
       "    // Prevent repeat events\n",
       "    if (name == 'key_press')\n",
       "    {\n",
       "        if (event.which === this._key)\n",
       "            return;\n",
       "        else\n",
       "            this._key = event.which;\n",
       "    }\n",
       "    if (name == 'key_release')\n",
       "        this._key = null;\n",
       "\n",
       "    var value = '';\n",
       "    if (event.ctrlKey && event.which != 17)\n",
       "        value += \"ctrl+\";\n",
       "    if (event.altKey && event.which != 18)\n",
       "        value += \"alt+\";\n",
       "    if (event.shiftKey && event.which != 16)\n",
       "        value += \"shift+\";\n",
       "\n",
       "    value += 'k';\n",
       "    value += event.which.toString();\n",
       "\n",
       "    this._key_event_extra(event, name);\n",
       "\n",
       "    this.send_message(name, {key: value,\n",
       "                             guiEvent: simpleKeys(event)});\n",
       "    return false;\n",
       "}\n",
       "\n",
       "mpl.figure.prototype.toolbar_button_onclick = function(name) {\n",
       "    if (name == 'download') {\n",
       "        this.handle_save(this, null);\n",
       "    } else {\n",
       "        this.send_message(\"toolbar_button\", {name: name});\n",
       "    }\n",
       "};\n",
       "\n",
       "mpl.figure.prototype.toolbar_button_onmouseover = function(tooltip) {\n",
       "    this.message.textContent = tooltip;\n",
       "};\n",
       "mpl.toolbar_items = [[\"Home\", \"Reset original view\", \"fa fa-home icon-home\", \"home\"], [\"Back\", \"Back to  previous view\", \"fa fa-arrow-left icon-arrow-left\", \"back\"], [\"Forward\", \"Forward to next view\", \"fa fa-arrow-right icon-arrow-right\", \"forward\"], [\"\", \"\", \"\", \"\"], [\"Pan\", \"Pan axes with left mouse, zoom with right\", \"fa fa-arrows icon-move\", \"pan\"], [\"Zoom\", \"Zoom to rectangle\", \"fa fa-square-o icon-check-empty\", \"zoom\"], [\"\", \"\", \"\", \"\"], [\"Download\", \"Download plot\", \"fa fa-floppy-o icon-save\", \"download\"]];\n",
       "\n",
       "mpl.extensions = [\"eps\", \"jpeg\", \"pdf\", \"png\", \"ps\", \"raw\", \"svg\", \"tif\"];\n",
       "\n",
       "mpl.default_extension = \"png\";var comm_websocket_adapter = function(comm) {\n",
       "    // Create a \"websocket\"-like object which calls the given IPython comm\n",
       "    // object with the appropriate methods. Currently this is a non binary\n",
       "    // socket, so there is still some room for performance tuning.\n",
       "    var ws = {};\n",
       "\n",
       "    ws.close = function() {\n",
       "        comm.close()\n",
       "    };\n",
       "    ws.send = function(m) {\n",
       "        //console.log('sending', m);\n",
       "        comm.send(m);\n",
       "    };\n",
       "    // Register the callback with on_msg.\n",
       "    comm.on_msg(function(msg) {\n",
       "        //console.log('receiving', msg['content']['data'], msg);\n",
       "        // Pass the mpl event to the overriden (by mpl) onmessage function.\n",
       "        ws.onmessage(msg['content']['data'])\n",
       "    });\n",
       "    return ws;\n",
       "}\n",
       "\n",
       "mpl.mpl_figure_comm = function(comm, msg) {\n",
       "    // This is the function which gets called when the mpl process\n",
       "    // starts-up an IPython Comm through the \"matplotlib\" channel.\n",
       "\n",
       "    var id = msg.content.data.id;\n",
       "    // Get hold of the div created by the display call when the Comm\n",
       "    // socket was opened in Python.\n",
       "    var element = $(\"#\" + id);\n",
       "    var ws_proxy = comm_websocket_adapter(comm)\n",
       "\n",
       "    function ondownload(figure, format) {\n",
       "        window.open(figure.imageObj.src);\n",
       "    }\n",
       "\n",
       "    var fig = new mpl.figure(id, ws_proxy,\n",
       "                           ondownload,\n",
       "                           element.get(0));\n",
       "\n",
       "    // Call onopen now - mpl needs it, as it is assuming we've passed it a real\n",
       "    // web socket which is closed, not our websocket->open comm proxy.\n",
       "    ws_proxy.onopen();\n",
       "\n",
       "    fig.parent_element = element.get(0);\n",
       "    fig.cell_info = mpl.find_output_cell(\"<div id='\" + id + \"'></div>\");\n",
       "    if (!fig.cell_info) {\n",
       "        console.error(\"Failed to find cell for figure\", id, fig);\n",
       "        return;\n",
       "    }\n",
       "\n",
       "    var output_index = fig.cell_info[2]\n",
       "    var cell = fig.cell_info[0];\n",
       "\n",
       "};\n",
       "\n",
       "mpl.figure.prototype.handle_close = function(fig, msg) {\n",
       "    var width = fig.canvas.width/mpl.ratio\n",
       "    fig.root.unbind('remove')\n",
       "\n",
       "    // Update the output cell to use the data from the current canvas.\n",
       "    fig.push_to_output();\n",
       "    var dataURL = fig.canvas.toDataURL();\n",
       "    // Re-enable the keyboard manager in IPython - without this line, in FF,\n",
       "    // the notebook keyboard shortcuts fail.\n",
       "    IPython.keyboard_manager.enable()\n",
       "    $(fig.parent_element).html('<img src=\"' + dataURL + '\" width=\"' + width + '\">');\n",
       "    fig.close_ws(fig, msg);\n",
       "}\n",
       "\n",
       "mpl.figure.prototype.close_ws = function(fig, msg){\n",
       "    fig.send_message('closing', msg);\n",
       "    // fig.ws.close()\n",
       "}\n",
       "\n",
       "mpl.figure.prototype.push_to_output = function(remove_interactive) {\n",
       "    // Turn the data on the canvas into data in the output cell.\n",
       "    var width = this.canvas.width/mpl.ratio\n",
       "    var dataURL = this.canvas.toDataURL();\n",
       "    this.cell_info[1]['text/html'] = '<img src=\"' + dataURL + '\" width=\"' + width + '\">';\n",
       "}\n",
       "\n",
       "mpl.figure.prototype.updated_canvas_event = function() {\n",
       "    // Tell IPython that the notebook contents must change.\n",
       "    IPython.notebook.set_dirty(true);\n",
       "    this.send_message(\"ack\", {});\n",
       "    var fig = this;\n",
       "    // Wait a second, then push the new image to the DOM so\n",
       "    // that it is saved nicely (might be nice to debounce this).\n",
       "    setTimeout(function () { fig.push_to_output() }, 1000);\n",
       "}\n",
       "\n",
       "mpl.figure.prototype._init_toolbar = function() {\n",
       "    var fig = this;\n",
       "\n",
       "    var nav_element = $('<div/>')\n",
       "    nav_element.attr('style', 'width: 100%');\n",
       "    this.root.append(nav_element);\n",
       "\n",
       "    // Define a callback function for later on.\n",
       "    function toolbar_event(event) {\n",
       "        return fig.toolbar_button_onclick(event['data']);\n",
       "    }\n",
       "    function toolbar_mouse_event(event) {\n",
       "        return fig.toolbar_button_onmouseover(event['data']);\n",
       "    }\n",
       "\n",
       "    for(var toolbar_ind in mpl.toolbar_items){\n",
       "        var name = mpl.toolbar_items[toolbar_ind][0];\n",
       "        var tooltip = mpl.toolbar_items[toolbar_ind][1];\n",
       "        var image = mpl.toolbar_items[toolbar_ind][2];\n",
       "        var method_name = mpl.toolbar_items[toolbar_ind][3];\n",
       "\n",
       "        if (!name) { continue; };\n",
       "\n",
       "        var button = $('<button class=\"btn btn-default\" href=\"#\" title=\"' + name + '\"><i class=\"fa ' + image + ' fa-lg\"></i></button>');\n",
       "        button.click(method_name, toolbar_event);\n",
       "        button.mouseover(tooltip, toolbar_mouse_event);\n",
       "        nav_element.append(button);\n",
       "    }\n",
       "\n",
       "    // Add the status bar.\n",
       "    var status_bar = $('<span class=\"mpl-message\" style=\"text-align:right; float: right;\"/>');\n",
       "    nav_element.append(status_bar);\n",
       "    this.message = status_bar[0];\n",
       "\n",
       "    // Add the close button to the window.\n",
       "    var buttongrp = $('<div class=\"btn-group inline pull-right\"></div>');\n",
       "    var button = $('<button class=\"btn btn-mini btn-primary\" href=\"#\" title=\"Stop Interaction\"><i class=\"fa fa-power-off icon-remove icon-large\"></i></button>');\n",
       "    button.click(function (evt) { fig.handle_close(fig, {}); } );\n",
       "    button.mouseover('Stop Interaction', toolbar_mouse_event);\n",
       "    buttongrp.append(button);\n",
       "    var titlebar = this.root.find($('.ui-dialog-titlebar'));\n",
       "    titlebar.prepend(buttongrp);\n",
       "}\n",
       "\n",
       "mpl.figure.prototype._root_extra_style = function(el){\n",
       "    var fig = this\n",
       "    el.on(\"remove\", function(){\n",
       "\tfig.close_ws(fig, {});\n",
       "    });\n",
       "}\n",
       "\n",
       "mpl.figure.prototype._canvas_extra_style = function(el){\n",
       "    // this is important to make the div 'focusable\n",
       "    el.attr('tabindex', 0)\n",
       "    // reach out to IPython and tell the keyboard manager to turn it's self\n",
       "    // off when our div gets focus\n",
       "\n",
       "    // location in version 3\n",
       "    if (IPython.notebook.keyboard_manager) {\n",
       "        IPython.notebook.keyboard_manager.register_events(el);\n",
       "    }\n",
       "    else {\n",
       "        // location in version 2\n",
       "        IPython.keyboard_manager.register_events(el);\n",
       "    }\n",
       "\n",
       "}\n",
       "\n",
       "mpl.figure.prototype._key_event_extra = function(event, name) {\n",
       "    var manager = IPython.notebook.keyboard_manager;\n",
       "    if (!manager)\n",
       "        manager = IPython.keyboard_manager;\n",
       "\n",
       "    // Check for shift+enter\n",
       "    if (event.shiftKey && event.which == 13) {\n",
       "        this.canvas_div.blur();\n",
       "        // select the cell after this one\n",
       "        var index = IPython.notebook.find_cell_index(this.cell_info[0]);\n",
       "        IPython.notebook.select(index + 1);\n",
       "    }\n",
       "}\n",
       "\n",
       "mpl.figure.prototype.handle_save = function(fig, msg) {\n",
       "    fig.ondownload(fig, null);\n",
       "}\n",
       "\n",
       "\n",
       "mpl.find_output_cell = function(html_output) {\n",
       "    // Return the cell and output element which can be found *uniquely* in the notebook.\n",
       "    // Note - this is a bit hacky, but it is done because the \"notebook_saving.Notebook\"\n",
       "    // IPython event is triggered only after the cells have been serialised, which for\n",
       "    // our purposes (turning an active figure into a static one), is too late.\n",
       "    var cells = IPython.notebook.get_cells();\n",
       "    var ncells = cells.length;\n",
       "    for (var i=0; i<ncells; i++) {\n",
       "        var cell = cells[i];\n",
       "        if (cell.cell_type === 'code'){\n",
       "            for (var j=0; j<cell.output_area.outputs.length; j++) {\n",
       "                var data = cell.output_area.outputs[j];\n",
       "                if (data.data) {\n",
       "                    // IPython >= 3 moved mimebundle to data attribute of output\n",
       "                    data = data.data;\n",
       "                }\n",
       "                if (data['text/html'] == html_output) {\n",
       "                    return [cell, data, j];\n",
       "                }\n",
       "            }\n",
       "        }\n",
       "    }\n",
       "}\n",
       "\n",
       "// Register the function which deals with the matplotlib target/channel.\n",
       "// The kernel may be null if the page has been refreshed.\n",
       "if (IPython.notebook.kernel != null) {\n",
       "    IPython.notebook.kernel.comm_manager.register_target('matplotlib', mpl.mpl_figure_comm);\n",
       "}\n"
      ],
      "text/plain": [
       "<IPython.core.display.Javascript object>"
      ]
     },
     "metadata": {},
     "output_type": "display_data"
    },
    {
     "data": {
      "text/html": [
       "<img src=\"data:image/png;base64,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\" width=\"640\">"
      ],
      "text/plain": [
       "<IPython.core.display.HTML object>"
      ]
     },
     "metadata": {},
     "output_type": "display_data"
    },
    {
     "name": "stdout",
     "output_type": "stream",
     "text": [
      "Let's play Battleship!\n",
      "\n",
      "The size of the grid is 10x10. Enter your target location\n",
      "as x, y.\n"
     ]
    },
    {
     "data": {
      "application/vnd.jupyter.widget-view+json": {
       "model_id": "ee2d167d98e4486bb2bb3712d3435715",
       "version_major": 2,
       "version_minor": 0
      },
      "text/plain": [
       "A Jupyter Widget"
      ]
     },
     "metadata": {},
     "output_type": "display_data"
    }
   ],
   "source": [
    "%matplotlib notebook\n",
    "\n",
    "from ipywidgets import widgets\n",
    "from IPython.display import display\n",
    "import numpy as np\n",
    "import matplotlib.pyplot as plt\n",
    "import random\n",
    "\n",
    "# Create a 2d numpy array (simular to a python list but much faster.)\n",
    "battlefield = np.zeros((10, 10))\n",
    "\n",
    "def random_coord(battlefield):\n",
    "    x = random.randint(0, battlefield.shape[0]-1)\n",
    "    y = random.randint(0, battlefield.shape[1]-1)\n",
    "    return x, y\n",
    "\n",
    "ship_location = random_coord(battlefield)\n",
    "\n",
    "fig = plt.figure()\n",
    "bf = plt.imshow(battlefield, vmin=0, vmax=2)\n",
    "plt.show()\n",
    "\n",
    "print(\"\"\"Let's play Battleship!\n",
    "\n",
    "The size of the grid is 10x10. Enter your target location\n",
    "as x, y.\"\"\")\n",
    "coords = widgets.Text()\n",
    "display(coords)\n",
    "\n",
    "def update_map(sender):\n",
    "    x, y = [int(x) for x in sender.value.split(\", \")]\n",
    "    sender.value = \"\"\n",
    "    battlefield = bf.get_array()\n",
    "    if ship_location == (x, y):\n",
    "        battlefield[x, y] = 2\n",
    "        print(\"Congratulations! You sunk the battleship!\")\n",
    "    else:\n",
    "        battlefield[x, y] = 1\n",
    "    bf.set_array(battlefield)\n",
    "    fig.canvas.draw()\n",
    "\n",
    "coords.on_submit(update_map)"
   ]
  },
  {
   "cell_type": "markdown",
   "metadata": {
    "slideshow": {
     "slide_type": "slide"
    }
   },
   "source": [
    "## Handling errors in input\n",
    "\n",
    "I am quite sure that during the course of the game above you encountered some run-time errors. Perhaps you specified an index that was out of bounds, or perhaps you provided text as input when a number was expected. In real life, users make mistakes all the time. For this reason it is important to understand where errors may arise in a program and add code to catch these errors and make the program react in some sensible way. You can already see that errors can sometimes be very confusing to the user. Good error handling can be used to help the user understand what mistake was made and suggest a solution. In some cases you can even guess what was intended and correct automatically."
   ]
  },
  {
   "cell_type": "markdown",
   "metadata": {
    "slideshow": {
     "slide_type": "subslide"
    }
   },
   "source": [
    "Let's consider a simple example where we make a reference out of bounds in a list:"
   ]
  },
  {
   "cell_type": "code",
   "execution_count": 6,
   "metadata": {
    "slideshow": {
     "slide_type": "fragment"
    }
   },
   "outputs": [
    {
     "ename": "IndexError",
     "evalue": "tuple index out of range",
     "output_type": "error",
     "traceback": [
      "\u001b[0;31m---------------------------------------------------------------------------\u001b[0m",
      "\u001b[0;31mIndexError\u001b[0m                                Traceback (most recent call last)",
      "\u001b[0;32m<ipython-input-6-6a516db87396>\u001b[0m in \u001b[0;36m<module>\u001b[0;34m()\u001b[0m\n\u001b[1;32m      1\u001b[0m \u001b[0mplaces_i_would_rather_be\u001b[0m \u001b[0;34m=\u001b[0m \u001b[0;34m(\u001b[0m\u001b[0;34m\"pub\"\u001b[0m\u001b[0;34m,\u001b[0m \u001b[0;34m\"Fernanda de Noronha\"\u001b[0m\u001b[0;34m,\u001b[0m \u001b[0;34m\"Dolomites\"\u001b[0m\u001b[0;34m,\u001b[0m \u001b[0;34m\"anywhere but here\"\u001b[0m\u001b[0;34m)\u001b[0m\u001b[0;34m\u001b[0m\u001b[0m\n\u001b[1;32m      2\u001b[0m \u001b[0moption\u001b[0m \u001b[0;34m=\u001b[0m \u001b[0;36m4\u001b[0m \u001b[0;31m# lets assume that the user has given the input option 4\u001b[0m\u001b[0;34m\u001b[0m\u001b[0m\n\u001b[0;32m----> 3\u001b[0;31m \u001b[0mprint\u001b[0m\u001b[0;34m(\u001b[0m\u001b[0mplaces_i_would_rather_be\u001b[0m\u001b[0;34m[\u001b[0m\u001b[0moption\u001b[0m\u001b[0;34m]\u001b[0m\u001b[0;34m)\u001b[0m\u001b[0;34m\u001b[0m\u001b[0m\n\u001b[0m",
      "\u001b[0;31mIndexError\u001b[0m: tuple index out of range"
     ]
    }
   ],
   "source": [
    "places_i_would_rather_be = (\"pub\", \"Fernanda de Noronha\", \"Dolomites\", \"anywhere but here\")\n",
    "option = 4 # lets assume that the user has given the input option 4\n",
    "print(places_i_would_rather_be[option])"
   ]
  },
  {
   "cell_type": "markdown",
   "metadata": {
    "slideshow": {
     "slide_type": "fragment"
    }
   },
   "source": [
    "Here we can see we have an **IndexError** (i.e. a reference out of bounds) with the clarification that it is the **tuple index out of range**."
   ]
  },
  {
   "cell_type": "markdown",
   "metadata": {
    "slideshow": {
     "slide_type": "subslide"
    }
   },
   "source": [
    "The general way we deal with this issue in Python (and in many other programming languages) is to try to do what we indend to, and if it fails, we recover from the error. This is implemented using the *try-except* block:\n",
    "```\n",
    "try:\n",
    "    <statements we indend to do>\n",
    "except:\n",
    "    <statements for handling errors>\n",
    "```"
   ]
  },
  {
   "cell_type": "markdown",
   "metadata": {
    "slideshow": {
     "slide_type": "subslide"
    }
   },
   "source": [
    "If something goes wrong in the **try** block, Python raises an **exception** and the execution jumps immediately to the **except** block. Let's try an example:"
   ]
  },
  {
   "cell_type": "code",
   "execution_count": 7,
   "metadata": {
    "slideshow": {
     "slide_type": "subslide"
    }
   },
   "outputs": [
    {
     "name": "stdout",
     "output_type": "stream",
     "text": [
      "Where would you rather be (specify option 0-3)?\n",
      "0. Pub\n",
      "1. Fernanda de Noronha\n",
      "2. Dolomites\n",
      "3. Anywhere but here\n",
      "0\n",
      "Don't drink and code.\n"
     ]
    }
   ],
   "source": [
    "import sys\n",
    "places_i_would_rather_be = (\"Pub\", \"Fernanda de Noronha\", \"Dolomites\", \"Anywhere but here\")\n",
    "glib_reply = (\"Don't drink and code.\", \"Rubbish broadband - couldn't stream Lost.\", \n",
    "                \"My first ski lesson was watching YouTube (don't try).\", \"Ah don't go...your great craic.\")\n",
    "\n",
    "msg = \"\"\"Where would you rather be (specify option 0-3)?\n",
    "0. %s\n",
    "1. %s\n",
    "2. %s\n",
    "3. %s\n",
    "\"\"\" % places_i_would_rather_be\n",
    "\n",
    "try:\n",
    "    option = int(input(msg))\n",
    "    print(glib_reply[option])\n",
    "except:\n",
    "    print(\"ERROR: You need to specify an integer\")\n",
    "    sys.exit(1)"
   ]
  },
  {
   "cell_type": "markdown",
   "metadata": {
    "slideshow": {
     "slide_type": "subslide"
    }
   },
   "source": [
    "In the above example the expected input is an integer. If the user types a string, e.g. \"Pub\", then a **ValueError** is raised, and the code except block is executed.\n",
    "\n",
    "However, what happens if you type 4, or 100? In that case it is a valid integer, but then it is used as an index to the tuple *glib\\_reply* it clearly references an element that does not exist. This results in an **IndexError**. But the error message we get back is still *ERROR: You need to specify an integer*. So, how can we make our error handling more intellegent?"
   ]
  },
  {
   "cell_type": "markdown",
   "metadata": {
    "slideshow": {
     "slide_type": "subslide"
    }
   },
   "source": [
    "Well, there are two solutions here. We can either break up our *try* block so we try the integer conversion and the glib reply separately, i.e.:"
   ]
  },
  {
   "cell_type": "code",
   "execution_count": 8,
   "metadata": {
    "slideshow": {
     "slide_type": "fragment"
    }
   },
   "outputs": [
    {
     "name": "stdout",
     "output_type": "stream",
     "text": [
      "Where would you rather be (specify option 0-3)?\n",
      "0. Pub\n",
      "1. Fernanda de Noronha\n",
      "2. Dolomites\n",
      "3. Anywhere but here\n",
      "0\n",
      "Don't drink and code.\n"
     ]
    }
   ],
   "source": [
    "try:\n",
    "    option = int(input(msg))\n",
    "except:\n",
    "    print(\"ERROR: You need to specify an integer\")\n",
    "    sys.exit(1)\n",
    "try:\n",
    "    print(glib_reply[option])\n",
    "except:\n",
    "    print(\"ERROR: You need to specify an integer between in the range 0-3.\")\n",
    "    sys.exit(1)"
   ]
  },
  {
   "cell_type": "markdown",
   "metadata": {
    "slideshow": {
     "slide_type": "subslide"
    }
   },
   "source": [
    "However, an even better solution is to create an *except* block that is specialised for a specific error type, i.e.:"
   ]
  },
  {
   "cell_type": "code",
   "execution_count": 9,
   "metadata": {
    "slideshow": {
     "slide_type": "fragment"
    }
   },
   "outputs": [
    {
     "name": "stdout",
     "output_type": "stream",
     "text": [
      "Where would you rather be (specify option 0-3)?\n",
      "0. Pub\n",
      "1. Fernanda de Noronha\n",
      "2. Dolomites\n",
      "3. Anywhere but here\n",
      "0\n",
      "Don't drink and code.\n"
     ]
    }
   ],
   "source": [
    "try:\n",
    "    option = int(input(msg))\n",
    "    print(glib_reply[option])\n",
    "except ValueError:\n",
    "    print(\"ERROR: You need to specify an integer\")\n",
    "    sys.exit(1)\n",
    "except IndexError:\n",
    "    print(\"ERROR: You need to specify an integer between in the range 0-3.\")\n",
    "    sys.exit(1)"
   ]
  },
  {
   "cell_type": "markdown",
   "metadata": {
    "slideshow": {
     "slide_type": "subslide"
    }
   },
   "source": [
    "This is still not perfect. What happens if you enter -1? Recall that negative indices traverse the list from the end to the beginning. Also, it is a bit messy that we have to print out the message and then call sys.exit to abort the program. We can deal with this issue more elegently if we **raise** our own error:"
   ]
  },
  {
   "cell_type": "code",
   "execution_count": 10,
   "metadata": {
    "slideshow": {
     "slide_type": "fragment"
    }
   },
   "outputs": [
    {
     "name": "stdout",
     "output_type": "stream",
     "text": [
      "Where would you rather be (specify option 0-3)?\n",
      "0. Pub\n",
      "1. Fernanda de Noronha\n",
      "2. Dolomites\n",
      "3. Anywhere but here\n",
      "0\n",
      "Don't drink and code.\n"
     ]
    }
   ],
   "source": [
    "try:\n",
    "    option = int(input(msg))\n",
    "    if not (0 <= option <= 3):\n",
    "        raise ValueError\n",
    "    print(glib_reply[option])\n",
    "except ValueError:\n",
    "    raise ValueError(\"You need to specify an integer value.\")\n",
    "except IndexError:\n",
    "    raise IndexError(\"You need to specify an integer between in the range 0-3.\")"
   ]
  },
  {
   "cell_type": "markdown",
   "metadata": {
    "slideshow": {
     "slide_type": "slide"
    }
   },
   "source": [
    "## <span style=\"color:blue\">Exercise 4.4: Use exceptions</span>\n",
    "Extend the program from Exercise 1 with a try-except block to handle the potential error that the user enters nothing (or invalid data such as a letter) for the Fahrenheit temperature."
   ]
  },
  {
   "cell_type": "code",
   "execution_count": null,
   "metadata": {
    "collapsed": true,
    "slideshow": {
     "slide_type": "subslide"
    }
   },
   "outputs": [],
   "source": []
  },
  {
   "cell_type": "markdown",
   "metadata": {
    "slideshow": {
     "slide_type": "slide"
    }
   },
   "source": [
    "## <span style=\"color:blue\">Exercise 4.5: Make the program from Exercise 4.2 safer</span>\n",
    "Extend the program from Exercise 4.2 to include exception handling such that missing (or invalid) values for *t* and *v0* are detected."
   ]
  },
  {
   "cell_type": "code",
   "execution_count": null,
   "metadata": {
    "collapsed": true,
    "slideshow": {
     "slide_type": "subslide"
    }
   },
   "outputs": [],
   "source": []
  },
  {
   "cell_type": "markdown",
   "metadata": {
    "slideshow": {
     "slide_type": "slide"
    }
   },
   "source": [
    "## <span style=\"color:blue\">Exercise 4.6: Test more in the program</span>\n",
    "Test if the *t* value read in the program from the previous exercise lies between $0$ and ${2v_0}/{g}$. If not, raise a *ValueError* exception in the *if* test on legal *t* values in the program from the previous exercise. Include the legal interval for *t* in the exception message."
   ]
  },
  {
   "cell_type": "code",
   "execution_count": null,
   "metadata": {
    "collapsed": true,
    "slideshow": {
     "slide_type": "subslide"
    }
   },
   "outputs": [],
   "source": []
  },
  {
   "cell_type": "markdown",
   "metadata": {
    "slideshow": {
     "slide_type": "slide"
    }
   },
   "source": [
    "## <span style=\"color:blue\">Exercise 4.7: Compute the distance it takes to stop a car</span>\n",
    "A car driver, driving at velocity $v_0$, suddenly puts on the brake. What braking distance $d$ is needed to stop the car? One can derive, from basic physics, that</br>\n",
    "$d = 0.5\\frac{v_0^2}{\\mu g}$</br>\n",
    "Make a program for computing $d$ using the above formula when the initial car velocity $v_0$ and the friction coefficient $\\mu$ are provided via the text widget. Run the\n",
    "program for two cases: $v_0$ = 120 and $v_0$ = 50 km/h, both with $\\mu$ = 0.3 ($\\mu$ is dimensionless). (Remember to convert the velocity from km/h to m/s before inserting the value in the formula!)"
   ]
  },
  {
   "cell_type": "code",
   "execution_count": null,
   "metadata": {
    "collapsed": true,
    "slideshow": {
     "slide_type": "subslide"
    }
   },
   "outputs": [],
   "source": []
  }
 ],
 "metadata": {
  "celltoolbar": "Slideshow",
  "kernelspec": {
   "display_name": "Python 3",
   "language": "python",
   "name": "python3"
  },
  "language_info": {
   "codemirror_mode": {
    "name": "ipython",
    "version": 3
   },
   "file_extension": ".py",
   "mimetype": "text/x-python",
   "name": "python",
   "nbconvert_exporter": "python",
   "pygments_lexer": "ipython3",
   "version": "3.6.2"
  }
 },
 "nbformat": 4,
 "nbformat_minor": 1
}
